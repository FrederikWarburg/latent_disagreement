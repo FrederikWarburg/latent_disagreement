{
 "cells": [
  {
   "cell_type": "code",
   "execution_count": 65,
   "metadata": {},
   "outputs": [],
   "source": [
    "import torch\n",
    "import torch.nn as nn\n",
    "from torch.nn import functional as F\n",
    "from torch.autograd import Variable\n",
    "from torch import optim\n",
    "import numpy as np\n",
    "import math, random\n",
    "\n",
    "from models.nalu import NeuralArithmeticLogicUnitCell\n",
    "\n",
    "import matplotlib.pyplot as plt\n",
    "import time\n",
    "%matplotlib inline\n",
    "import time\n",
    "import pylab as pl\n",
    "from IPython import display"
   ]
  },
  {
   "cell_type": "code",
   "execution_count": 334,
   "metadata": {},
   "outputs": [],
   "source": [
    "def generate_recurrent_synthetic_arithmetic_dataset(arithmetic_op, min_value, max_value, sample_size, sequence_size, set_size, boundaries = None):\n",
    "    \"\"\"\n",
    "    generates a dataset of integers for the synthetics arithmetic task\n",
    "\n",
    "    :param arithmetic_op: the type of operation to perform on the sum of the two sub sections can be either :\n",
    "    [\"add\" , \"subtract\", \"multiply\", \"divide\", \"root\", \"square\"]\n",
    "    :param min_value: the minimum possible value of the generated integers\n",
    "    :param max_value: the maximum possible value of the generated integers\n",
    "    :param sample_size: the number of integers per sample\n",
    "    :param set_size: the number of samples in the dataset\n",
    "    :param boundaries: [Optional] an iterable of 4 integer indices in the following format :\n",
    "    [start of 1st section, end of 1st section, start of 2nd section, end of 2nd section]\n",
    "    if None, the boundaries are randomly generated.\n",
    "    :return: the training dataset input, the training true outputs, the boundaries of the sub sections used\n",
    "    \"\"\"\n",
    "    a_exp = []\n",
    "    b_exp = []\n",
    "    outs = []\n",
    "    \n",
    "    if boundaries is None:\n",
    "        boundaries = [np.random.randint(sample_size) for i in range(4)]\n",
    "        while len(np.unique(boundaries)) != 4:\n",
    "            boundaries = [np.random.randint(sample_size) for i in range(4)]\n",
    "            \n",
    "        boundaries = sorted(boundaries)\n",
    "        \n",
    "        if boundaries[1] == boundaries[0]:\n",
    "            if boundaries[1] < sample_size-1:\n",
    "                boundaries[1] =boundaries[1]+ 1\n",
    "            else:\n",
    "                boundaries[0] = boundaries[0] - 1\n",
    "                \n",
    "        if boundaries[3] == boundaries[2]:\n",
    "            if boundaries[3] < sample_size-1:\n",
    "                boundaries[3] =boundaries[3]+ 1\n",
    "            else:\n",
    "                boundaries[2] =boundaries[2]- 1\n",
    "    else:\n",
    "        if len(boundaries) != 4:\n",
    "            raise ValueError(\"boundaries is expected to be a list of 4 elements but found {}\".format(len(boundaries)))\n",
    "    \n",
    "    x = np.random.uniform(min_value, max_value, (set_size, sample_size,sequence_size))\n",
    "\n",
    "    for exp in range(set_size):\n",
    "        a = []\n",
    "        b = []\n",
    "        for time in range(sequence_size):\n",
    "            if time == 0:\n",
    "                a.append(sum(x[exp, boundaries[0]:boundaries[1], time]))\n",
    "                b.append(sum(x[exp, boundaries[2]:boundaries[3], time]))\n",
    "            else:\n",
    "            \n",
    "                a.append(sum(sum(x[exp, boundaries[0]:boundaries[1], time-1:time+1])))\n",
    "                b.append(sum(sum(x[exp, boundaries[2]:boundaries[3], time-1:time+1])))\n",
    "                \n",
    "        a_exp.append(a)\n",
    "        b_exp.append(b)\n",
    "    \n",
    "    a_exp = np.array(a_exp)\n",
    "    b_exp = np.array(b_exp)\n",
    "\n",
    "    if \"add\" in str.lower(arithmetic_op):\n",
    "        true_outputs = a_exp + b_exp\n",
    "        \n",
    "\n",
    "    x = torch.tensor(x, dtype=torch.float32)\n",
    "    true_outputs = torch.tensor(true_outputs, dtype=torch.float32).unsqueeze(1)\n",
    "    \n",
    "    return x, true_outputs, boundaries\n"
   ]
  },
  {
   "cell_type": "code",
   "execution_count": 335,
   "metadata": {},
   "outputs": [
    {
     "name": "stdout",
     "output_type": "stream",
     "text": [
      "tensor([[[ 4.9004,  7.8999,  8.6827],\n",
      "         [ 2.8161,  3.1335,  3.8262],\n",
      "         [ 8.9773,  2.3877,  3.7469],\n",
      "         [ 8.5907,  1.5491,  9.7664],\n",
      "         [ 8.4603,  8.5113,  5.5960],\n",
      "         [ 5.5834,  8.4668,  8.2704]]])\n",
      "[0, 1, 2, 3]\n",
      "tensor([[[ 13.8777,  24.1653,  22.7172]]])\n"
     ]
    }
   ],
   "source": [
    "arithmetic_op = 'add'\n",
    "min_value = 1\n",
    "max_value  = 10\n",
    "sample_size = 6\n",
    "sequence_size = 3\n",
    "number_of_experiments = 1\n",
    "\n",
    "inputs, targets, boundaries = generate_recurrent_synthetic_arithmetic_dataset(\n",
    "                                                arithmetic_op, min_value, max_value, \n",
    "                                                sample_size, sequence_size,\n",
    "                                                number_of_experiments)\n",
    "print(inputs)\n",
    "print(boundaries)    \n",
    "print(targets)"
   ]
  },
  {
   "cell_type": "code",
   "execution_count": 336,
   "metadata": {},
   "outputs": [],
   "source": [
    "class NaluRNN(nn.Module):\n",
    "    def __init__(self):\n",
    "        super(NaluRNN, self).__init__()\n",
    "        \n",
    "        self.feature_size = 100\n",
    "        self.hidden_size = 2\n",
    "        self.output_size = 1\n",
    "        \n",
    "        self.selector = NeuralArithmeticLogicUnitCell(self.feature_size, self.hidden_size)\n",
    "        #self.linear = nn.Linear(self.hidden_size,self.output_size)\n",
    "        #self.linear = \n",
    "        self.operator = NeuralArithmeticLogicUnitCell(self.hidden_size,self.output_size)\n",
    "    \n",
    "    def step(self, x, hidden=None):\n",
    "\n",
    "        x_t = self.selector(x)\n",
    "\n",
    "        #h_t = self.linear(torch.cat((x_t,torch.t(hidden)),dim=0))\n",
    "        h_t = x_t + (hidden) # this is equal to have a w = [1,1]\n",
    "\n",
    "        y_t = self.operator(h_t)\n",
    "        \n",
    "        return y_t, h_t\n",
    "    \n",
    "    def forward(self, inputs, hidden=None):\n",
    "\n",
    "        steps = np.shape(inputs)[1]\n",
    "\n",
    "        outputs = Variable(torch.zeros(steps))\n",
    "        \n",
    "        for i in range(steps):\n",
    "            if i == 0:\n",
    "                hidden = torch.zeros(1,2)\n",
    "\n",
    "            output, hidden = self.step(inputs[:,i].unsqueeze(0), hidden)\n",
    "            outputs[i] = output\n",
    "            \n",
    "        return outputs\n"
   ]
  },
  {
   "cell_type": "code",
   "execution_count": 339,
   "metadata": {},
   "outputs": [
    {
     "data": {
      "image/png": "[encoded data removed]",
      "text/plain": [
       "<Figure size 432x288 with 1 Axes>"
      ]
     },
     "metadata": {},
     "output_type": "display_data"
    },
    {
     "data": {
      "image/png": "[encoded data removed]",
      "text/plain": [
       "<Figure size 432x288 with 1 Axes>"
      ]
     },
     "metadata": {},
     "output_type": "display_data"
    }
   ],
   "source": [
    "arithmetic_op = 'add'\n",
    "min_value = 1\n",
    "max_value  = 10\n",
    "sample_size = 100\n",
    "sequence_size = 10\n",
    "number_of_experiments = 99\n",
    "\n",
    "inputs, targets, boundaries = generate_recurrent_synthetic_arithmetic_dataset(\n",
    "                                                arithmetic_op, min_value, max_value, \n",
    "                                                sample_size, sequence_size,\n",
    "                                                number_of_experiments)\n",
    "\n",
    "n_epochs = 500\n",
    "\n",
    "model = NaluRNN()\n",
    "criterion = nn.MSELoss()\n",
    "optimizer = optim.RMSprop(model.parameters(), lr=0.01)\n",
    "\n",
    "losses = np.zeros(n_epochs) # For plotting\n",
    "    \n",
    "for epoch in range(n_epochs):\n",
    "    losses = []\n",
    "    for iter in range(number_of_experiments):\n",
    "\n",
    "        input_ = inputs[iter, :, :]\n",
    "        target_ = targets[iter, :, :]\n",
    "\n",
    "        outputs = model(input_)\n",
    "\n",
    "        optimizer.zero_grad()\n",
    "        loss = criterion(outputs, target_.squeeze(0))\n",
    "        loss.backward()\n",
    "        optimizer.step()\n",
    "        \n",
    "        losses.append(loss.data)\n",
    "        \n",
    "    plt.plot(epoch,np.mean(losses),'r.')\n",
    "    display.clear_output(wait=True)\n",
    "    display.display(pl.gcf())\n"
   ]
  },
  {
   "cell_type": "code",
   "execution_count": 341,
   "metadata": {},
   "outputs": [
    {
     "data": {
      "text/plain": [
       "25456.477"
      ]
     },
     "execution_count": 341,
     "metadata": {},
     "output_type": "execute_result"
    }
   ],
   "source": [
    "np.mean(losses)\n"
   ]
  }
 ],
 "metadata": {
  "kernelspec": {
   "display_name": "Python 3",
   "language": "python",
   "name": "python3"
  },
  "language_info": {
   "codemirror_mode": {
    "name": "ipython",
    "version": 3
   },
   "file_extension": ".py",
   "mimetype": "text/x-python",
   "name": "python",
   "nbconvert_exporter": "python",
   "pygments_lexer": "ipython3",
   "version": "3.6.5"
  }
 },
 "nbformat": 4,
 "nbformat_minor": 2
}
