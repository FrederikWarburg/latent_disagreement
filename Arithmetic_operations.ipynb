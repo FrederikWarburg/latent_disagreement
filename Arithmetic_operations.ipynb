{
 "cells": [
  {
   "cell_type": "code",
   "execution_count": 1,
   "metadata": {},
   "outputs": [],
   "source": [
    "#from models.nalu import NALU\n",
    "import torch.nn.functional as F\n",
    "import torch\n",
    "import numpy as np\n",
    "import matplotlib.pyplot as plt\n",
    "import matplotlib\n",
    "from tqdm import tqdm_notebook as tqdm\n"
   ]
  },
  {
   "cell_type": "code",
   "execution_count": 2,
   "metadata": {},
   "outputs": [],
   "source": [
    "def generate_synthetic_arithmetic_dataset(arithmetic_op, min_value, max_value, sample_size, set_size, boundaries = None):\n",
    "    \"\"\"\n",
    "    generates a dataset of integers for the synthetics arithmetic task\n",
    "\n",
    "    :param arithmetic_op: the type of operation to perform on the sum of the two sub sections can be either :\n",
    "    [\"add\" , \"subtract\", \"multiply\", \"divide\", \"root\", \"square\"]\n",
    "    :param min_value: the minimum possible value of the generated integers\n",
    "    :param max_value: the maximum possible value of the generated integers\n",
    "    :param sample_size: the number of integers per sample\n",
    "    :param set_size: the number of samples in the dataset\n",
    "    :param boundaries: [Optional] an iterable of 4 integer indices in the following format :\n",
    "    [start of 1st section, end of 1st section, start of 2nd section, end of 2nd section]\n",
    "    if None, the boundaries are randomly generated.\n",
    "    :return: the training dataset input, the training true outputs, the boundaries of the sub sections used\n",
    "    \"\"\"\n",
    "    scaled_input_values = np.random.uniform(min_value, max_value, (set_size, sample_size))\n",
    "\n",
    "    if boundaries is None:\n",
    "        boundaries = [np.random.randint(sample_size) for i in range(4)]\n",
    "        boundaries = sorted(boundaries)\n",
    "        \n",
    "        if boundaries[1] == boundaries[0]:\n",
    "            if boundaries[1] < sample_size-1:\n",
    "                boundaries[1] =boundaries[1]+ 1\n",
    "            else:\n",
    "                boundaries[0] = boundaries[0] - 1\n",
    "                \n",
    "        if boundaries[3] == boundaries[2]:\n",
    "            if boundaries[3] < sample_size-1:\n",
    "                boundaries[3] =boundaries[3]+ 1\n",
    "            else:\n",
    "                boundaries[2] =boundaries[2]- 1\n",
    "    else:\n",
    "        if len(boundaries) != 4:\n",
    "            raise ValueError(\"boundaries is expected to be a list of 4 elements but found {}\".format(len(boundaries)))\n",
    "\n",
    "    a = np.array([np.sum(sample[boundaries[0]:boundaries[1]]) for sample in scaled_input_values])\n",
    "    b = np.array([np.sum(sample[boundaries[2]:boundaries[3]]) for sample in scaled_input_values])\n",
    "\n",
    "    true_outputs = None\n",
    "    if \"add\" in str.lower(arithmetic_op):\n",
    "        true_outputs = a + b\n",
    "    elif \"sub\" in str.lower(arithmetic_op):\n",
    "        true_outputs = a - b\n",
    "    elif \"mult\" in str.lower(arithmetic_op):\n",
    "        true_outputs = a * b\n",
    "    elif \"div\" in str.lower(arithmetic_op):\n",
    "        true_outputs = a / b\n",
    "    elif \"square\" == str.lower(arithmetic_op):\n",
    "        true_outputs = a * a\n",
    "    elif \"root\" in str.lower(arithmetic_op):\n",
    "        true_outputs = np.sqrt(a)\n",
    "    \n",
    "    scaled_input_values = torch.tensor(scaled_input_values, dtype=torch.float32)\n",
    "    true_outputs = torch.tensor(true_outputs, dtype=torch.float32).unsqueeze(1)\n",
    "        \n",
    "    return scaled_input_values, true_outputs, boundaries"
   ]
  },
  {
   "cell_type": "code",
   "execution_count": 3,
   "metadata": {},
   "outputs": [],
   "source": [
    "from models.nalu import NALU\n"
   ]
  },
  {
   "cell_type": "code",
   "execution_count": 4,
   "metadata": {},
   "outputs": [],
   "source": [
    "import torch\n",
    "import torchvision.utils as vutils\n",
    "import numpy as np\n",
    "import torchvision.models as models\n",
    "from torchvision import datasets\n",
    "from tensorboardX import SummaryWriter\n",
    "import datetime\n",
    "import os"
   ]
  },
  {
   "cell_type": "code",
   "execution_count": 5,
   "metadata": {},
   "outputs": [],
   "source": [
    "FEATURES_NUM = 100\n",
    "epochs = 500\n",
    "batch_size = 1\n",
    "lr = 0.01\n",
    "operator = \"add\""
   ]
  },
  {
   "cell_type": "code",
   "execution_count": 6,
   "metadata": {},
   "outputs": [],
   "source": [
    "import cv2\n",
    "def make_Im(W):\n",
    "\n",
    "    height,width = np.shape(W)\n",
    "    new_height = height* 10\n",
    "    \n",
    "    im = np.zeros((3,new_height,width))\n",
    "    w_tmp = W.detach().numpy()\n",
    "    k = -1\n",
    "\n",
    "    for i in range(new_height):\n",
    "        if i % (new_height // 2) == 0:\n",
    "            k += 1\n",
    "        \n",
    "        for channel in range(3):\n",
    "            im[channel,i,:] = w_tmp[k,:]\n",
    "\n",
    "    im = np.round(im * 255,0).astype(int)\n",
    "    return im"
   ]
  },
  {
   "cell_type": "code",
   "execution_count": null,
   "metadata": {},
   "outputs": [
    {
     "name": "stdout",
     "output_type": "stream",
     "text": [
      "[15, 29, 79, 80]\n"
     ]
    },
    {
     "data": {
      "application/vnd.jupyter.widget-view+json": {
       "model_id": "af9e309785a548d3a4fca0f2a3303d38",
       "version_major": 2,
       "version_minor": 0
      },
      "text/plain": [
       "HBox(children=(IntProgress(value=0, max=500), HTML(value='')))"
      ]
     },
     "metadata": {},
     "output_type": "display_data"
    },
    {
     "name": "stdout",
     "output_type": "stream",
     "text": [
      "\n",
      "[15, 29, 79, 80]\n"
     ]
    },
    {
     "data": {
      "application/vnd.jupyter.widget-view+json": {
       "model_id": "19db3ae793954ff292e9b0b45f2a6a7b",
       "version_major": 2,
       "version_minor": 0
      },
      "text/plain": [
       "HBox(children=(IntProgress(value=0, max=500), HTML(value='')))"
      ]
     },
     "metadata": {},
     "output_type": "display_data"
    },
    {
     "name": "stdout",
     "output_type": "stream",
     "text": [
      "\n",
      "[15, 29, 79, 80]\n"
     ]
    },
    {
     "data": {
      "application/vnd.jupyter.widget-view+json": {
       "model_id": "2b45203174764f36ac472eeb30a94729",
       "version_major": 2,
       "version_minor": 0
      },
      "text/plain": [
       "HBox(children=(IntProgress(value=0, max=500), HTML(value='')))"
      ]
     },
     "metadata": {},
     "output_type": "display_data"
    }
   ],
   "source": [
    "interpolations = [True, False]\n",
    "for interpolation in interpolations:\n",
    "    \n",
    "    if interpolation:\n",
    "        training_range = [0,10]\n",
    "        test_range = [0,10]\n",
    "    else:\n",
    "        training_range = [0,10]\n",
    "        test_range = [0,100]\n",
    "    \n",
    "    operators = ['add', 'sub', 'mult','div','square','root']\n",
    "    for operator in operators:\n",
    "        \n",
    "        first_losses = []\n",
    "        last_losses = []\n",
    "        \n",
    "        for i in range(1):\n",
    "            stop_training = False\n",
    "            np.random.seed(i)\n",
    "\n",
    "            in_dim = FEATURES_NUM\n",
    "            hidden_dim = 2\n",
    "            out_dim = 1\n",
    "            num_layers = 2\n",
    "\n",
    "            dim = in_dim # dimensition for generating data\n",
    "\n",
    "            model = NALU(num_layers, in_dim, hidden_dim, out_dim)\n",
    "\n",
    "            X_train, y_train, boundaries = generate_synthetic_arithmetic_dataset(operator, 0, 10, FEATURES_NUM, 1000)\n",
    "            X_test, y_test, _ = generate_synthetic_arithmetic_dataset(operator, 0, 100, FEATURES_NUM, 1000, boundaries)\n",
    "            print(boundaries)\n",
    "            optimizer = torch.optim.RMSprop(model.parameters(),lr=lr)\n",
    "\n",
    "            experiment = \"int_\"+str(interpolation)+\",op_\" + operator + \",lr_\" + str(lr) + \",bs_\" + str(batch_size) + \",f_\" + str(FEATURES_NUM) +\",tr_r_\" + str(training_range) + \",te_r_\" +str(test_range)\n",
    "            exp = \"exp=\" + str(i) + \"/\"\n",
    "            Nalues = [exp + 'SelectorNALU/', exp + 'operatorNalu/']\n",
    "\n",
    "            path = 'checkpoints/' + experiment + '/'\n",
    "            if not os.path.exists('checkpoints'):\n",
    "                os.mkdir('checkpoints')\n",
    "            if not os.path.exists('checkpoints/' + experiment):\n",
    "                os.mkdir('checkpoints/' + experiment)\n",
    "\n",
    "            writer = SummaryWriter(path)\n",
    "\n",
    "            writer.add_text(exp + \"text/seed\", str(i), 0)\n",
    "            writer.add_text(exp + \"text/boundaries\", str(boundaries), 0)\n",
    "\n",
    "            model.eval()\n",
    "            output_test = model(X_test)\n",
    "            loss = F.mse_loss(output_test, y_test)\n",
    "            first_losses.append(loss.item())\n",
    "\n",
    "            for epoch in tqdm(range(epochs)):\n",
    "\n",
    "                for batch in range(len(X_train) // batch_size):\n",
    "\n",
    "                    model.train()\n",
    "                    optimizer.zero_grad()\n",
    "\n",
    "                    X_batch_train = X_train[batch:(batch+batch_size),:]\n",
    "                    y_batch_train = y_train[batch:(batch+batch_size),:]\n",
    "\n",
    "                    out = model(X_batch_train)\n",
    "\n",
    "                    loss = F.mse_loss(out, y_batch_train)\n",
    "\n",
    "                    loss.backward()\n",
    "                    optimizer.step()\n",
    "\n",
    "                if epoch % 10 == 1:\n",
    "\n",
    "                    writer.add_scalar(exp + \"data/Training_loss\", loss.item(), epoch)\n",
    "\n",
    "                    for i, child in enumerate(model.model.children()):\n",
    "\n",
    "                        g = child.g_store\n",
    "\n",
    "                        if i == 0:\n",
    "                            writer.add_graph(Nalues[i]+\"hist/g\",g,epoch)\n",
    "\n",
    "                        for j, param in enumerate(child.parameters()):\n",
    "\n",
    "                            if j == 0:\n",
    "                                G = param\n",
    "                            if j == 1:\n",
    "                                W_hat = param\n",
    "                            if j == 2:\n",
    "                                M_hat = param\n",
    "\n",
    "                        W = torch.tanh(W_hat) * torch.sigmoid(M_hat)\n",
    "                                                                        \n",
    "                        writer.add_histogram(Nalues[i]+\"hist/W\",W,epoch)\n",
    "                        writer.add_histogram(Nalues[i]+\"hist/G\",G,epoch)\n",
    "                        writer.add_histogram(Nalues[i]+\"hist/W_hat\",W_hat,epoch)\n",
    "                        writer.add_histogram(Nalues[i]+\"hist/M_hat\",M_hat,epoch)\n",
    "\n",
    "                        if i == 0:\n",
    "\n",
    "                            tmp_im = make_Im(W)\n",
    "                            writer.add_image(Nalues[i] + \"image/W\", tmp_im, epoch)\n",
    "\n",
    "                            tmp_im = make_Im(G)\n",
    "                            writer.add_image(Nalues[i] + \"image/G\", tmp_im, epoch)\n",
    "\n",
    "                            tmp_im = make_Im(W_hat)\n",
    "                            writer.add_image(Nalues[i] + \"image/W_hat\", tmp_im, epoch)\n",
    "\n",
    "                            tmp_im = make_Im(M_hat)\n",
    "                            writer.add_image(Nalues[i] + \"image/M_hat\", tmp_im, epoch)\n",
    "\n",
    "                    model.eval()\n",
    "\n",
    "                    X_batch_test = X_test[batch:(batch+batch_size),:]\n",
    "                    y_batch_test = y_test[batch:(batch+batch_size),:]\n",
    "\n",
    "                    output_test = model(X_batch_test)\n",
    "                    loss = F.mse_loss(output_test, y_batch_test)\n",
    "\n",
    "                    acc = np.sum(np.isclose(output_test.detach().numpy(), y_batch_test.detach().numpy(), atol=.1, rtol=0)) / len(y_batch_test)\n",
    "\n",
    "                    writer.add_scalar(exp + \"data/Test_accuracy\", float(acc), epoch)\n",
    "                    writer.add_scalar(exp + \"data/Test_loss\", loss.item(), epoch)\n",
    "                                        \n",
    "            model.eval()\n",
    "\n",
    "            output_test = model(X_batch_test)\n",
    "            loss = F.mse_loss(output_test, y_batch_test)\n",
    "            last_losses.append(loss.item())\n",
    "                        \n",
    "            writer.add_text(exp + \"data/first_losses\", str(first_losses), 0)\n",
    "            writer.add_text(exp + \"data/first_losses_mean\", str(np.mean(first_losses)), 0)\n",
    "            writer.add_text(exp + \"data/last_losses\", str(last_losses), 0)\n",
    "            writer.add_text(exp + \"data/last_losses_mean\", str(np.mean(last_losses)), 0)\n",
    "    "
   ]
  },
  {
   "cell_type": "code",
   "execution_count": null,
   "metadata": {},
   "outputs": [],
   "source": []
  }
 ],
 "metadata": {
  "kernelspec": {
   "display_name": "Python 3",
   "language": "python",
   "name": "python3"
  },
  "language_info": {
   "codemirror_mode": {
    "name": "ipython",
    "version": 3
   },
   "file_extension": ".py",
   "mimetype": "text/x-python",
   "name": "python",
   "nbconvert_exporter": "python",
   "pygments_lexer": "ipython3",
   "version": "3.6.5"
  }
 },
 "nbformat": 4,
 "nbformat_minor": 2
}
