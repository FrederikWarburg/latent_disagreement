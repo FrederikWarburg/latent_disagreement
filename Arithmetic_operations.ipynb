{
 "cells": [
  {
   "cell_type": "code",
   "execution_count": 1,
   "metadata": {},
   "outputs": [],
   "source": [
    "#from models.nalu import NALU\n",
    "import torch.nn.functional as F\n",
    "import torch\n",
    "import numpy as np\n",
    "import matplotlib.pyplot as plt\n",
    "import matplotlib\n",
    "plt.style.use('seaborn')"
   ]
  },
  {
   "cell_type": "code",
   "execution_count": 2,
   "metadata": {},
   "outputs": [],
   "source": [
    "def generate_synthetic_arithmetic_dataset(arithmetic_op, min_value, max_value, sample_size, set_size, boundaries = None):\n",
    "    \"\"\"\n",
    "    generates a dataset of integers for the synthetics arithmetic task\n",
    "\n",
    "    :param arithmetic_op: the type of operation to perform on the sum of the two sub sections can be either :\n",
    "    [\"add\" , \"subtract\", \"multiply\", \"divide\", \"root\", \"square\"]\n",
    "    :param min_value: the minimum possible value of the generated integers\n",
    "    :param max_value: the maximum possible value of the generated integers\n",
    "    :param sample_size: the number of integers per sample\n",
    "    :param set_size: the number of samples in the dataset\n",
    "    :param boundaries: [Optional] an iterable of 4 integer indices in the following format :\n",
    "    [start of 1st section, end of 1st section, start of 2nd section, end of 2nd section]\n",
    "    if None, the boundaries are randomly generated.\n",
    "    :return: the training dataset input, the training true outputs, the boundaries of the sub sections used\n",
    "    \"\"\"\n",
    "    scaled_input_values = np.random.uniform(min_value, max_value, (set_size, sample_size))\n",
    "\n",
    "    if boundaries is None:\n",
    "        boundaries = [np.random.randint(sample_size) for i in range(4)]\n",
    "        boundaries[1] = np.random.randint(boundaries[0], sample_size)\n",
    "        boundaries[3] = np.random.randint(boundaries[2], sample_size)\n",
    "    else:\n",
    "        if len(boundaries) != 4:\n",
    "            raise ValueError(\"boundaries is expected to be a list of 4 elements but found {}\".format(len(boundaries)))\n",
    "\n",
    "    a = np.array([np.sum(sample[boundaries[0]:boundaries[1]]) for sample in scaled_input_values])\n",
    "    b = np.array([np.sum(sample[boundaries[2]:boundaries[3]]) for sample in scaled_input_values])\n",
    "\n",
    "    true_outputs = None\n",
    "    if \"add\" in str.lower(arithmetic_op):\n",
    "        true_outputs = a + b\n",
    "    elif \"sub\" in str.lower(arithmetic_op):\n",
    "        true_outputs = a - b\n",
    "    elif \"mult\" in str.lower(arithmetic_op):\n",
    "        true_outputs = a * b\n",
    "    elif \"div\" in str.lower(arithmetic_op):\n",
    "        true_outputs = a / b\n",
    "    elif \"square\" == str.lower(arithmetic_op):\n",
    "        true_outputs = a * a\n",
    "    elif \"root\" in str.lower(arithmetic_op):\n",
    "        true_outputs = np.sqrt(a)\n",
    "    \n",
    "    scaled_input_values = torch.tensor(scaled_input_values, dtype=torch.float32)\n",
    "    true_outputs = torch.tensor(true_outputs, dtype=torch.float32).unsqueeze(1)\n",
    "        \n",
    "    return scaled_input_values, true_outputs, boundaries"
   ]
  },
  {
   "cell_type": "code",
   "execution_count": 3,
   "metadata": {},
   "outputs": [],
   "source": [
    "from models.nalu import NALU\n"
   ]
  },
  {
   "cell_type": "code",
   "execution_count": 4,
   "metadata": {},
   "outputs": [],
   "source": [
    "import torch\n",
    "import torchvision.utils as vutils\n",
    "import numpy as np\n",
    "import torchvision.models as models\n",
    "from torchvision import datasets\n",
    "from tensorboardX import SummaryWriter\n",
    "import datetime\n",
    "import os"
   ]
  },
  {
   "cell_type": "code",
   "execution_count": 5,
   "metadata": {},
   "outputs": [],
   "source": [
    "FEATURES_NUM = 100\n",
    "epochs = 100000\n",
    "sample_rate = 44100\n",
    "batch_size = 1\n",
    "operator = \"add\""
   ]
  },
  {
   "cell_type": "code",
   "execution_count": 6,
   "metadata": {},
   "outputs": [
    {
     "name": "stdout",
     "output_type": "stream",
     "text": [
      "NALU(\n",
      "  (model): Sequential(\n",
      "    (0): NeuralArithmeticLogicUnitCell(\n",
      "      in_dim=100, out_dim=2\n",
      "      (nac): NeuralAccumulatorCell(in_dim=100, out_dim=2)\n",
      "    )\n",
      "    (1): NeuralArithmeticLogicUnitCell(\n",
      "      in_dim=2, out_dim=1\n",
      "      (nac): NeuralAccumulatorCell(in_dim=2, out_dim=1)\n",
      "    )\n",
      "  )\n",
      ")\n"
     ]
    }
   ],
   "source": [
    "in_dim = FEATURES_NUM\n",
    "hidden_dim = 2\n",
    "out_dim = 1\n",
    "num_layers = 2\n",
    "\n",
    "dim = in_dim # dimensition for generating data\n",
    "\n",
    "model = NALU(num_layers, in_dim, hidden_dim, out_dim)\n",
    "print(model)"
   ]
  },
  {
   "cell_type": "code",
   "execution_count": null,
   "metadata": {},
   "outputs": [
    {
     "name": "stdout",
     "output_type": "stream",
     "text": [
      "hey\n"
     ]
    }
   ],
   "source": [
    "X_train, y_train, boundaries = generate_synthetic_arithmetic_dataset(operator, -10, 10, FEATURES_NUM, 1000)\n",
    "X_test, y_test, _ = generate_synthetic_arithmetic_dataset(operator, -100, 100, FEATURES_NUM, 1000, boundaries)\n",
    "\n",
    "optimizer = torch.optim.RMSprop(model.parameters(),lr=0.001)\n",
    "\n",
    "Nalues = ['SelectorNALU', 'operatorNalu']\n",
    "weigths = ['weight1','weight2','weight3']\n",
    "\n",
    "path = 'checkpoints/' + str(datetime.datetime.now().strftime(\"%m-%d-%H:%M\")) + \"/\"\n",
    "if not os.path.exists('checkpoints'):\n",
    "    os.mkdir('checkpoints')\n",
    "writer = SummaryWriter(path)\n",
    "iteration = 0\n",
    "for epoch in range(epochs):\n",
    "\n",
    "    for batch in range(len(X_train) // batch_size):\n",
    "        iteration += 1\n",
    "        \n",
    "        model.train()\n",
    "        optimizer.zero_grad()\n",
    "\n",
    "        X_batch_train = X_train[batch:(batch+batch_size),:]\n",
    "        y_batch_train = y_train[batch:(batch+batch_size),:]\n",
    "    \n",
    "        out = model(X_batch_train)\n",
    "\n",
    "        loss = F.mse_loss(out, y_batch_train)\n",
    "        \n",
    "        loss.backward()\n",
    "        optimizer.step()\n",
    "\n",
    "        writer.add_scalar(\"data/Loss\", loss.item(), iteration)\n",
    "        \n",
    "        for i, child in enumerate(model.model.children()):\n",
    "\n",
    "            for j, param in enumerate(child.parameters()):\n",
    "\n",
    "                tag_name = Nalues[i] + weigths[j]\n",
    "\n",
    "                writer.add_histogram(tag_name,param,iteration)\n",
    "        \n",
    "    if epoch % 100 == 0:\n",
    "        print(\"hey\")\n",
    "        model.eval()\n",
    "        \n",
    "        X_batch_test = X_test[batch:(batch+batch_size),:]\n",
    "        y_batch_test = y_test[batch:(batch+batch_size),:]\n",
    "        \n",
    "        output_test = model(X_batch_train)\n",
    "        \n",
    "        acc = np.sum(np.isclose(output_test.detach().numpy(), y_batch_test.detach().numpy(), atol=.1, rtol=0)) / len(y_batch_test)\n",
    "        #print(\"epoch \\t\", epoch, \"\\t loss \\t\",  np.round(loss.detach().numpy(),4), \"\\t acc \\t\", acc)\n",
    "        \n",
    "        writer.add_scalar(\"data/Accuracy\", float(acc), iteration)"
   ]
  },
  {
   "cell_type": "code",
   "execution_count": 21,
   "metadata": {},
   "outputs": [
    {
     "data": {
      "text/plain": [
       "<generator object Module.children at 0x114405e08>"
      ]
     },
     "execution_count": 21,
     "metadata": {},
     "output_type": "execute_result"
    }
   ],
   "source": [
    "selectionNALU"
   ]
  }
 ],
 "metadata": {
  "kernelspec": {
   "display_name": "Python 3",
   "language": "python",
   "name": "python3"
  },
  "language_info": {
   "codemirror_mode": {
    "name": "ipython",
    "version": 3
   },
   "file_extension": ".py",
   "mimetype": "text/x-python",
   "name": "python",
   "nbconvert_exporter": "python",
   "pygments_lexer": "ipython3",
   "version": "3.6.5"
  }
 },
 "nbformat": 4,
 "nbformat_minor": 2
}
