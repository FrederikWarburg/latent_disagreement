{
 "cells": [
  {
   "cell_type": "markdown",
   "metadata": {},
   "source": [
    "## This section illustrates training and extrapolation testing of Task Subset Selection"
   ]
  },
  {
   "cell_type": "code",
   "execution_count": 1,
   "metadata": {},
   "outputs": [],
   "source": [
    "import torch\n",
    "import torch.nn.functional as F\n",
    "\n",
    "import numpy as np\n",
    "\n",
    "from tqdm import tqdm_notebook as tqdm\n",
    "\n",
    "from data_generator_helper import generate_synthetic_selection_dataset\n",
    "from models_new.nalu_b import NALU\n",
    "from models_new.nac import NAC\n",
    "\n",
    "from torchvision import datasets\n",
    "import torchvision.models as models\n",
    "import torchvision.utils as vutils\n",
    "from tensorboardX import SummaryWriter\n",
    "\n",
    "import datetime\n",
    "import os\n",
    "\n",
    "import matplotlib\n",
    "import matplotlib.pyplot as plt\n",
    "#from mpl_toolkits.mplot3d import Axes3D as plt3\n",
    "\n",
    "from ipywidgets import interactive\n",
    "from ipywidgets import widgets"
   ]
  },
  {
   "cell_type": "code",
   "execution_count": 2,
   "metadata": {},
   "outputs": [],
   "source": [
    "def reportLoss(loss):\n",
    "    print(loss)\n",
    "    \n",
    "def train(model, optimizer, x_train, y_train, epochs, batch_size, model_param):\n",
    "    for epoch in range(epochs):\n",
    "        for batch in range(len(x_train) // batch_size):\n",
    "\n",
    "            model.train()\n",
    "            optimizer.zero_grad()\n",
    "\n",
    "            x_batch_train = x_train[batch:(batch+batch_size),:]\n",
    "            y_batch_train = y_train[batch:(batch+batch_size),:]\n",
    "            out = model(x_batch_train)\n",
    "            \n",
    "            loss = F.mse_loss(out, y_batch_train)\n",
    "            \n",
    "            if loss != loss:\n",
    "                print(\"nan detected\")\n",
    "            #losses[epoch,batch] = loss\n",
    "            loss.backward()\n",
    "            optimizer.step()\n",
    "    return test(model,x_train,y_train)\n",
    "\n",
    "     \n",
    "    \n",
    "def test(model, x_test, y_test):\n",
    "    model.eval()\n",
    "    output_test = model(x_test)\n",
    "    loss = F.mse_loss(output_test, y_test)\n",
    "    return loss"
   ]
  },
  {
   "cell_type": "code",
   "execution_count": 7,
   "metadata": {
    "scrolled": true
   },
   "outputs": [
    {
     "name": "stdout",
     "output_type": "stream",
     "text": [
      "Interpolation Loss:  8.35e-11\n",
      "Extrapolation Loss: 6.96e-03 6.38e-03 2.60e+04 4.41e+04 1.09e+25 1.65e+25 "
     ]
    }
   ],
   "source": [
    "# Training Parameters\n",
    "lr = 0.02\n",
    "epochs = 1000\n",
    "batch_size = 1\n",
    "sample_size = 100\n",
    "set_size = 200\n",
    "init = 'Kai_Uni'\n",
    "\n",
    "# Model Parameters\n",
    "in_dim = sample_size\n",
    "hidden_dim = 1\n",
    "out_dim = 2\n",
    "num_layers = 1\n",
    "model_param = \"NALU\"\n",
    "\n",
    "# Interpolation range\n",
    "value = [0,1]\n",
    "\n",
    "# Extrapolation: Scale and range\n",
    "extr_scale = [5,10,100]\n",
    "extr_values = [[0,1],[-1,1]]\n",
    "\n",
    "# Defining model and optimizer\n",
    "model = NALU(num_layers, in_dim, hidden_dim, out_dim, init)\n",
    "optimizer = torch.optim.RMSprop(model.parameters(),lr=lr)\n",
    "\n",
    "\n",
    "# Generating dataset\n",
    "x_train, y_train, boundaries = generate_synthetic_selection_dataset(value[0], \n",
    "                                                                    value[1], sample_size, \n",
    "                                                                    set_size, boundaries = None)\n",
    "\n",
    "x_test, y_test, _ = generate_synthetic_selection_dataset(value[0], value[1],\n",
    "                                                         sample_size, set_size, boundaries = boundaries)\n",
    "x_train = x_train.type(torch.DoubleTensor)\n",
    "y_train = y_train.type(torch.DoubleTensor)\n",
    "x_test = x_test.type(torch.DoubleTensor)\n",
    "y_test = y_test.type(torch.DoubleTensor)\n",
    "\n",
    "# Training model\n",
    "loss = train(model, optimizer, x_train, y_train, epochs, batch_size, model_param)\n",
    "out = loss.data.numpy()\n",
    "print(\"Interpolation Loss: \",'{:.2e}'.format(out))\n",
    "\n",
    "# Testing extrapolation capabilites\n",
    "print(\"Extrapolation Loss: \", end='')\n",
    "for e_s in extr_scale:\n",
    "    for e_val in extr_values:\n",
    "        x_test, y_test, _ = generate_synthetic_selection_dataset(e_s*e_val[0]*value[1], e_s*e_val[1]*value[1],\n",
    "                                                         sample_size, set_size, boundaries = boundaries)\n",
    "\n",
    "        x_test = x_test.type(torch.DoubleTensor)\n",
    "        y_test = y_test.type(torch.DoubleTensor)               \n",
    "        test_loss  = test(model, x_test, y_test)\n",
    "        out = test_loss.data.numpy() / np.max(x_test.data.numpy())\n",
    "        print('{:.2e}'.format(out), end=' ')"
   ]
  },
  {
   "cell_type": "markdown",
   "metadata": {},
   "source": [
    "We see that by training on [0,1], the model extrapolates to [0,5] and [0,10] but seemingly not to [0,100], [-5,5],[-10,10],[-100,100]."
   ]
  },
  {
   "cell_type": "markdown",
   "metadata": {},
   "source": [
    "## This section illustrates the movement of weights across the optimization surface"
   ]
  },
  {
   "cell_type": "code",
   "execution_count": 4,
   "metadata": {
    "scrolled": true
   },
   "outputs": [],
   "source": [
    "from wmps import WeightMov"
   ]
  },
  {
   "cell_type": "code",
   "execution_count": 5,
   "metadata": {},
   "outputs": [
    {
     "data": {
      "application/vnd.jupyter.widget-view+json": {
       "model_id": "fe54f27bc41a4e26bf95a72ba2a57e80",
       "version_major": 2,
       "version_minor": 0
      },
      "text/html": [
       "<p>Failed to display Jupyter Widget of type <code>VBox</code>.</p>\n",
       "<p>\n",
       "  If you're reading this message in the Jupyter Notebook or JupyterLab Notebook, it may mean\n",
       "  that the widgets JavaScript is still loading. If this message persists, it\n",
       "  likely means that the widgets JavaScript library is either not installed or\n",
       "  not enabled. See the <a href=\"https://ipywidgets.readthedocs.io/en/stable/user_install.html\">Jupyter\n",
       "  Widgets Documentation</a> for setup instructions.\n",
       "</p>\n",
       "<p>\n",
       "  If you're reading this message in another frontend (for example, a static\n",
       "  rendering on GitHub or <a href=\"https://nbviewer.jupyter.org/\">NBViewer</a>),\n",
       "  it may mean that your frontend doesn't currently support widgets.\n",
       "</p>\n"
      ],
      "text/plain": [
       "VBox(children=(HBox(children=(IntSlider(value=160, continuous_update=False, description='r_angle:', max=360), IntSlider(value=30, continuous_update=False, description='h_angle:', max=90))), HBox(children=(Dropdown(description='view:', options=('per epoch', 'per batch'), value='per epoch'), Dropdown(description='display:', index=2, options=('single', 'mean', 'all'), value='all'), Dropdown(description='boundaries:', options=('in', 'out', 'both'), value='in'))), HBox(children=(BoundedIntText(value=1000, description='epoch:', max=1000), BoundedIntText(value=0, description='batch_num:', max=0), BoundedIntText(value=0, description='weight_num:', max=32)))), layout=Layout(height='100px'))"
      ]
     },
     "metadata": {},
     "output_type": "display_data"
    },
    {
     "data": {
      "application/vnd.jupyter.widget-view+json": {
       "model_id": "5c68c8b3e3b34e82a6d26f371312ac39",
       "version_major": 2,
       "version_minor": 0
      },
      "text/html": [
       "<p>Failed to display Jupyter Widget of type <code>Output</code>.</p>\n",
       "<p>\n",
       "  If you're reading this message in the Jupyter Notebook or JupyterLab Notebook, it may mean\n",
       "  that the widgets JavaScript is still loading. If this message persists, it\n",
       "  likely means that the widgets JavaScript library is either not installed or\n",
       "  not enabled. See the <a href=\"https://ipywidgets.readthedocs.io/en/stable/user_install.html\">Jupyter\n",
       "  Widgets Documentation</a> for setup instructions.\n",
       "</p>\n",
       "<p>\n",
       "  If you're reading this message in another frontend (for example, a static\n",
       "  rendering on GitHub or <a href=\"https://nbviewer.jupyter.org/\">NBViewer</a>),\n",
       "  it may mean that your frontend doesn't currently support widgets.\n",
       "</p>\n"
      ],
      "text/plain": [
       "Output()"
      ]
     },
     "metadata": {},
     "output_type": "display_data"
    }
   ],
   "source": [
    "_ = WeightMov(\"NALU_init_Xav_norm_set_size_100_cut.npy\",20)"
   ]
  },
  {
   "cell_type": "code",
   "execution_count": 6,
   "metadata": {
    "scrolled": false
   },
   "outputs": [
    {
     "data": {
      "application/vnd.jupyter.widget-view+json": {
       "model_id": "c6a2c88d263343d39583885fe73913e3",
       "version_major": 2,
       "version_minor": 0
      },
      "text/html": [
       "<p>Failed to display Jupyter Widget of type <code>VBox</code>.</p>\n",
       "<p>\n",
       "  If you're reading this message in the Jupyter Notebook or JupyterLab Notebook, it may mean\n",
       "  that the widgets JavaScript is still loading. If this message persists, it\n",
       "  likely means that the widgets JavaScript library is either not installed or\n",
       "  not enabled. See the <a href=\"https://ipywidgets.readthedocs.io/en/stable/user_install.html\">Jupyter\n",
       "  Widgets Documentation</a> for setup instructions.\n",
       "</p>\n",
       "<p>\n",
       "  If you're reading this message in another frontend (for example, a static\n",
       "  rendering on GitHub or <a href=\"https://nbviewer.jupyter.org/\">NBViewer</a>),\n",
       "  it may mean that your frontend doesn't currently support widgets.\n",
       "</p>\n"
      ],
      "text/plain": [
       "VBox(children=(HBox(children=(IntSlider(value=160, continuous_update=False, description='r_angle:', max=360), IntSlider(value=30, continuous_update=False, description='h_angle:', max=90))), HBox(children=(Dropdown(description='view:', options=('per epoch', 'per batch'), value='per epoch'), Dropdown(description='display:', index=2, options=('single', 'mean', 'all'), value='all'), Dropdown(description='boundaries:', options=('in', 'out', 'both'), value='in'))), HBox(children=(BoundedIntText(value=1000, description='epoch:', max=1000), BoundedIntText(value=0, description='batch_num:', max=0), BoundedIntText(value=0, description='weight_num:', max=61)))), layout=Layout(height='100px'))"
      ]
     },
     "metadata": {},
     "output_type": "display_data"
    },
    {
     "data": {
      "application/vnd.jupyter.widget-view+json": {
       "model_id": "47ec59a1ec334edfa60b5024d290eb45",
       "version_major": 2,
       "version_minor": 0
      },
      "text/html": [
       "<p>Failed to display Jupyter Widget of type <code>Output</code>.</p>\n",
       "<p>\n",
       "  If you're reading this message in the Jupyter Notebook or JupyterLab Notebook, it may mean\n",
       "  that the widgets JavaScript is still loading. If this message persists, it\n",
       "  likely means that the widgets JavaScript library is either not installed or\n",
       "  not enabled. See the <a href=\"https://ipywidgets.readthedocs.io/en/stable/user_install.html\">Jupyter\n",
       "  Widgets Documentation</a> for setup instructions.\n",
       "</p>\n",
       "<p>\n",
       "  If you're reading this message in another frontend (for example, a static\n",
       "  rendering on GitHub or <a href=\"https://nbviewer.jupyter.org/\">NBViewer</a>),\n",
       "  it may mean that your frontend doesn't currently support widgets.\n",
       "</p>\n"
      ],
      "text/plain": [
       "Output()"
      ]
     },
     "metadata": {},
     "output_type": "display_data"
    }
   ],
   "source": [
    "_ = WeightMov(\"NALU_init_Kai_norm_set_size_100_cut.npy\",20)"
   ]
  }
 ],
 "metadata": {
  "kernelspec": {
   "display_name": "Python 3",
   "language": "python",
   "name": "python3"
  },
  "language_info": {
   "codemirror_mode": {
    "name": "ipython",
    "version": 3
   },
   "file_extension": ".py",
   "mimetype": "text/x-python",
   "name": "python",
   "nbconvert_exporter": "python",
   "pygments_lexer": "ipython3",
   "version": "3.6.4"
  }
 },
 "nbformat": 4,
 "nbformat_minor": 2
}
