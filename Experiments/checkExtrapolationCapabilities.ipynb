{
 "cells": [
  {
   "cell_type": "code",
   "execution_count": 1,
   "metadata": {},
   "outputs": [],
   "source": [
    "from models.nac import NAC\n",
    "import torch.nn.functional as F\n",
    "import torch\n",
    "import numpy as np\n",
    "import matplotlib.pyplot as plt\n",
    "import matplotlib\n",
    "from tqdm import tqdm_notebook as tqdm\n",
    "\n",
    "from data_generator_helper import generate_synthetic_selection_dataset\n",
    "\n",
    "import math\n",
    "import torch\n",
    "import torch.nn as nn\n",
    "import torch.nn.init as init\n",
    "import torch.nn.functional as F\n",
    "\n",
    "from torch.nn.parameter import Parameter"
   ]
  },
  {
   "cell_type": "code",
   "execution_count": 50,
   "metadata": {},
   "outputs": [],
   "source": [
    "from torch.nn import MSELoss as MSE\n",
    "\n",
    "def test(model, x_test, y_test):\n",
    "    loss = nn.MSELoss()\n",
    "    model.eval()\n",
    "    output_test = model(x_test)\n",
    "    loss = loss(output_test, y_test)\n",
    "    \n",
    "    return loss"
   ]
  },
  {
   "cell_type": "code",
   "execution_count": 54,
   "metadata": {},
   "outputs": [],
   "source": [
    "weightfile = 'convtest_NALU_Kai_uni_test_7.npy'\n",
    "weights, losses, bounds, sample_size, out_dim, epochs, its, g_prevs = np.load(weightfile)\n",
    "temp = weights[0][0][-1,-1,:,:,:]\n",
    "W_hat = temp[:,:,0]\n",
    "M_hat = temp[:,:,1]\n",
    "W = temp[:,:,2]\n",
    "G = temp[:,:,3]\n"
   ]
  },
  {
   "cell_type": "code",
   "execution_count": 55,
   "metadata": {},
   "outputs": [],
   "source": [
    "class NeuralAccumulatorCell(nn.Module):\n",
    "    \"\"\"A Neural Accumulator (NAC) cell [1].\n",
    "\n",
    "    Attributes:\n",
    "        in_dim: size of the input sample.\n",
    "        out_dim: size of the output sample.\n",
    "\n",
    "    Sources:\n",
    "        [1]: https://arxiv.org/abs/1808.00508\n",
    "    \"\"\"\n",
    "    def __init__(self, What, Mhat):\n",
    "        super().__init__()\n",
    "\n",
    "\n",
    "        self.What = What#Parameter(torch.Tensor(out_dim, in_dim))\n",
    "        self.Mhat = Mhat#Parameter(torch.Tensor(out_dim, in_dim))\n",
    "\n",
    "        self.register_parameter('W_hat', self.What)\n",
    "        self.register_parameter('M_hat', self.Mhat)\n",
    "        self.register_parameter('bias', None)\n",
    "\n",
    "    def forward(self, input):\n",
    "        W = torch.tanh(self.What) * torch.sigmoid(self.Mhat)\n",
    "        return F.linear(input, W, self.bias)\n",
    "\n",
    "\n",
    "class NeuralArithmeticLogicUnitCell(nn.Module):\n",
    "    \"\"\"A Neural Arithmetic Logic Unit (NALU) cell [1].\n",
    "\n",
    "    Attributes:\n",
    "        in_dim: size of the input sample.\n",
    "        out_dim: size of the output sample.\n",
    "\n",
    "    Sources:\n",
    "        [1]: https://arxiv.org/abs/1808.00508\n",
    "    \"\"\"\n",
    "    def __init__(self, G, What, Mhat):\n",
    "        super().__init__()\n",
    "\n",
    "        self.eps = 1e-10\n",
    "\n",
    "        self.G = G\n",
    "        self.nac = NeuralAccumulatorCell(What, Mhat)\n",
    "        self.register_parameter('bias', None)\n",
    "    \n",
    "\n",
    "    def forward(self, input):\n",
    "\n",
    "        a = self.nac(input)\n",
    "        g = torch.sigmoid(F.linear(input, self.G, self.bias))\n",
    "\n",
    "        add_sub = g * a\n",
    "        log_input = torch.log(torch.abs(input) + self.eps)\n",
    "\n",
    "        m = torch.exp(self.nac(log_input))\n",
    "\n",
    "        mul_div = (1 - g) * m\n",
    "        y = add_sub + mul_div\n",
    "        return y\n"
   ]
  },
  {
   "cell_type": "code",
   "execution_count": 56,
   "metadata": {},
   "outputs": [
    {
     "data": {
      "text/plain": [
       "(0.41705361008644104, numpy.float64)"
      ]
     },
     "execution_count": 56,
     "metadata": {},
     "output_type": "execute_result"
    }
   ],
   "source": [
    "G[0,0],type(G[0,0])"
   ]
  },
  {
   "cell_type": "code",
   "execution_count": 57,
   "metadata": {},
   "outputs": [],
   "source": [
    "G = torch.Tensor(G)\n",
    "G = torch.nn.Parameter(G.type(torch.DoubleTensor))\n",
    "W_hat = torch.Tensor(W_hat)\n",
    "W_hat = torch.nn.Parameter(W_hat.type(torch.DoubleTensor))\n",
    "M_hat = torch.Tensor(M_hat)\n",
    "M_hat = torch.nn.Parameter(M_hat.type(torch.DoubleTensor))\n",
    "\n",
    "model = NeuralArithmeticLogicUnitCell(G, W_hat, M_hat)"
   ]
  },
  {
   "cell_type": "code",
   "execution_count": 58,
   "metadata": {},
   "outputs": [
    {
     "data": {
      "text/plain": [
       "(torch.Size([2, 100]), torch.Size([2, 100]), torch.Size([2, 100]))"
      ]
     },
     "execution_count": 58,
     "metadata": {},
     "output_type": "execute_result"
    }
   ],
   "source": [
    "np.shape(G), np.shape(W_hat), np.shape(M_hat)"
   ]
  },
  {
   "cell_type": "code",
   "execution_count": 22,
   "metadata": {},
   "outputs": [
    {
     "name": "stderr",
     "output_type": "stream",
     "text": [
      "/Library/Frameworks/Python.framework/Versions/3.6/lib/python3.6/site-packages/ipykernel_launcher.py:5: RuntimeWarning: overflow encountered in exp\n",
      "  \"\"\"\n"
     ]
    },
    {
     "data": {
      "image/png": "[encoded data removed]",
      "text/plain": [
       "<Figure size 432x288 with 1 Axes>"
      ]
     },
     "metadata": {},
     "output_type": "display_data"
    }
   ],
   "source": [
    "import numpy as np\n",
    "import matplotlib.pyplot as plt\n",
    "\n",
    "def sigmoid(x,t):\n",
    "    y = 1/ (1 + np.exp(-t*x))\n",
    "    return y\n",
    "\n",
    "ts = [0.001,0.01, 0.1, 1, 2, 10,100]\n",
    "x = np.linspace(-25,25,100)\n",
    "for t in ts:\n",
    "\n",
    "    y = sigmoid(x,t)\n",
    "\n",
    "    plt.plot(x,y,'-', label=str(t))\n",
    "plt.legend()\n",
    "plt.show()"
   ]
  },
  {
   "cell_type": "code",
   "execution_count": 60,
   "metadata": {},
   "outputs": [
    {
     "name": "stdout",
     "output_type": "stream",
     "text": [
      "2.313422530696826e-08\n",
      "1.6285113061663777e-06\n",
      "-2.740164469700694e+50\n",
      "2.781212102290671e+112\n",
      "2.5328427721911637e+180\n",
      "4.009780210373312\n"
     ]
    }
   ],
   "source": [
    "test_per_range = 1\n",
    "sample_size = 100\n",
    "set_size = 100\n",
    "\n",
    "in_dim = sample_size\n",
    "hidden_dim = 1\n",
    "out_dim = 2\n",
    "num_layers = 1\n",
    "\n",
    "lr = 0.01\n",
    "epochs = 1000\n",
    "\n",
    "\n",
    "#values = np.linspace(1,1000,10)\n",
    "values = [[0.0,1.0],\n",
    "          [-0.001, 0.001]\n",
    "          [0.0,100.0],\n",
    "          [-100.0,100.0],\n",
    "          [-1000.0,1000.0],\n",
    "          [-1.0,1.0]]\n",
    "\n",
    "for value in values:\n",
    "    min_value, max_value=  value\n",
    "\n",
    "    x_test, y_test, _ = generate_synthetic_selection_dataset(min_value, max_value,\n",
    "                                                                sample_size, set_size, boundaries = bounds[0][0])\n",
    "\n",
    "    x_test = x_test.type(torch.DoubleTensor)\n",
    "    y_test = y_test.type(torch.DoubleTensor)\n",
    "    test_loss  = test(model, x_test, y_test)\n",
    "\n",
    "    print(float(test_loss.data.numpy())/torch.max(x_test).numpy())\n"
   ]
  }
 ],
 "metadata": {
  "kernelspec": {
   "display_name": "Python 3",
   "language": "python",
   "name": "python3"
  },
  "language_info": {
   "codemirror_mode": {
    "name": "ipython",
    "version": 3
   },
   "file_extension": ".py",
   "mimetype": "text/x-python",
   "name": "python",
   "nbconvert_exporter": "python",
   "pygments_lexer": "ipython3",
   "version": "3.6.5"
  }
 },
 "nbformat": 4,
 "nbformat_minor": 2
}
