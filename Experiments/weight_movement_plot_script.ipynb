{
 "cells": [
  {
   "cell_type": "code",
   "execution_count": 21,
   "metadata": {},
   "outputs": [],
   "source": [
    "import torch\n",
    "import torch.nn.functional as F\n",
    "\n",
    "import numpy as np\n",
    "\n",
    "from tqdm import tqdm_notebook as tqdm\n",
    "\n",
    "from data_generator_helper import generate_synthetic_selection_dataset\n",
    "from models.nalu import NALU\n",
    "from models.nac import NAC\n",
    "\n",
    "from torchvision import datasets\n",
    "import torchvision.models as models\n",
    "import torchvision.utils as vutils\n",
    "from tensorboardX import SummaryWriter\n",
    "\n",
    "import datetime\n",
    "import os\n",
    "\n",
    "import matplotlib\n",
    "import matplotlib.pyplot as plt\n",
    "from mpl_toolkits.mplot3d import Axes3D as plt3\n",
    "\n",
    "from ipywidgets import interactive\n",
    "from ipywidgets import widgets\n",
    "\n",
    "class WeightMov():\n",
    "    \n",
    "    def __init__(self, weightfile, plotlim):\n",
    "        \n",
    "        self.lim = plotlim\n",
    "        # Load stuff from file\n",
    "        self.weights, self.losses, self.bounds, self.sample_size, self.out_dim, self.epochs, self.its = np.load(weightfile)\n",
    "        #print(np.shape(self.losses))\n",
    "        if np.shape(self.weights)[-1] == 4:\n",
    "            self.G = self.weights[0][0][:,:,:,:,3]\n",
    "            self.weights[0][0] = self.weights[0][0][:,:,:,:,:-1]\n",
    "        # Run script\n",
    "        self.interact_wrapper(self.epochs, self.sample_size, self.out_dim, self.bounds,self.its)\n",
    "    \n",
    "    \n",
    "    def plotsetup(self, height_angle, rot_angle):\n",
    "        #self.plotlim = 5\n",
    "        wh = np.linspace(-self.lim, self.lim,100+1)\n",
    "        mh = wh\n",
    "        xx,yy = np.meshgrid(wh,mh)\n",
    "        W_mat = torch.tanh(torch.Tensor(xx))*torch.sigmoid(torch.Tensor(yy))\n",
    "\n",
    "        fig = plt.figure()\n",
    "        fig.set_size_inches(12,12)\n",
    "        ax = fig.add_subplot(111, projection='3d')\n",
    "        ax.plot_surface(X=xx,Y=yy,Z=W_mat,rstride=5,cstride=5)\n",
    "        ax.view_init(height_angle, rot_angle)\n",
    "        ax.set_xlabel('w_h')\n",
    "        ax.set_ylabel('m_h')\n",
    "        ax.set_zlabel('w')\n",
    "        ax.set_xlim(-self.lim,self.lim)\n",
    "        ax.set_ylim(-self.lim,self.lim)\n",
    "        ax.set_zlim(-1,1)\n",
    "        return fig,ax\n",
    "    \n",
    "    \n",
    "    def plotweights(self, epoch, height_angle, rot_angle, bound, howmuch, weightnum, view, iteration):\n",
    "        fig,ax = self.plotsetup(height_angle, rot_angle)\n",
    "        \n",
    "        # shape of data: [[out, in, out],\n",
    "        #                 [out, in, out]]\n",
    "        \n",
    "        bds = self.bounds[0][0]\n",
    "        data = []\n",
    "        \n",
    "        if view == 'per epoch':\n",
    "            wgts = self.weights[0][0][:,0,:,:,:]\n",
    "            \n",
    "            \n",
    "            if bound == 'in':\n",
    "                data = np.concatenate((wgts[:,0,bds[0]:bds[1],:],wgts[:,1,bds[2]:bds[3],:]),axis=1)\n",
    "            elif bound == 'out':\n",
    "                data1 = np.concatenate((wgts[:,0,:bds[0],:],wgts[:,0,bds[1]:,:]),axis=1)\n",
    "                data2 = np.concatenate((wgts[:,1,:bds[2],:],wgts[:,1,bds[3]:,:]),axis=1)\n",
    "                data = np.concatenate((data1,data2),axis=1)\n",
    "            elif bound == 'both':\n",
    "                data = np.concatenate((wgts[:,0,:],wgts[:,1,:]),axis=1)\n",
    "\n",
    "            if howmuch == 'single':\n",
    "                data = data[:,weightnum,:]\n",
    "                ax.plot(data[:epoch+1,0],data[:epoch+1,1],data[:epoch+1,2],markersize=1,linewidth=2,color='red')\n",
    "            elif howmuch == 'mean':\n",
    "                data = np.mean(data,axis=1)\n",
    "                ax.plot(data[:epoch+1,0],data[:epoch+1,1],data[:epoch+1,2],markersize=1,linewidth=2,color='red')\n",
    "            elif howmuch == 'all':\n",
    "                for i in range(np.shape(data)[1]):\n",
    "                    ax.plot(data[:epoch+1,i,0],data[:epoch+1,i,1],data[:epoch+1,i,2],markersize=1,linewidth=2)\n",
    "\n",
    "        else:\n",
    "            wgts = self.weights[0][0]\n",
    "            wgts = np.reshape(wgts,(np.shape(wgts)[0]*np.shape(wgts)[1],\n",
    "                             np.shape(wgts)[2], np.shape(wgts)[3], np.shape(wgts)[4]),order='C')\n",
    "            itval = iteration + self.its*epoch\n",
    "        \n",
    "            if bound == 'in':\n",
    "                data = np.concatenate((wgts[:,0,bds[0]:bds[1],:],wgts[:,1,bds[2]:bds[3],:]),axis=1)\n",
    "            elif bound == 'out':\n",
    "                data1 = np.concatenate((wgts[:,0,:bds[0],:],wgts[:,0,bds[1]:,:]),axis=1)\n",
    "                data2 = np.concatenate((wgts[:,1,:bds[2],:],wgts[:,1,bds[3]:,:]),axis=1)\n",
    "                data = np.concatenate((data1,data2),axis=1)\n",
    "            elif bound == 'both':\n",
    "                data = np.concatenate((wgts[:,0,:],wgts[:,1,:]),axis=1)\n",
    "\n",
    "            if howmuch == 'single':\n",
    "                data = data[:,weightnum,:]\n",
    "                ax.plot(data[:itval+1,0],data[:itval+1,1],data[:itval+1,2],markersize=1,linewidth=2,color='red')\n",
    "            elif howmuch == 'mean':\n",
    "                data = np.mean(data,axis=1)\n",
    "                ax.plot(data[:itval+1,0],data[:itval+1,1],data[:itval+1,2],markersize=1,linewidth=2,color='red')\n",
    "            elif howmuch == 'all':\n",
    "                for i in range(np.shape(data)[1]):\n",
    "                    ax.plot(data[:itval+1,i,0],data[:itval+1,i,1],data[:itval+1,i,2],markersize=1,linewidth=2)\n",
    "        \n",
    "        plt.show()\n",
    "\n",
    "        \n",
    "    def interact_wrapper(self, epochs, sample_size, out_dim, bounds, its):\n",
    "        # Necessary info\n",
    "        bds = bounds[0][0]\n",
    "        num = out_dim*sample_size\n",
    "        in_num = (bds[3]-bds[2])+(bds[1]-bds[0])+2\n",
    "        out_num = num-in_num\n",
    "\n",
    "        # Input slides\n",
    "        epoch = widgets.BoundedIntText(min=0,max=epochs, step=1, \n",
    "                                  value=epochs, continuous_update=False, description='epoch:')\n",
    "        rot_angle = widgets.IntSlider(min=0, max=360, step=1, \n",
    "                                      value=160, continuous_update=False, description='r_angle:')\n",
    "        height_angle = widgets.IntSlider(min=0, max=90, step=1, \n",
    "                                         value=30, continuous_update=False, description='h_angle:')\n",
    "        bound = widgets.Dropdown(options=['in','out','both'], \n",
    "                                 value='in', description='boundaries:')\n",
    "        howmuch = widgets.Dropdown(options=['single','mean','all'], \n",
    "                                   value='all',description='display:')\n",
    "        weightnum = widgets.BoundedIntText(min=0, max=in_num-1, step=1, \n",
    "                                      value=0, continuous_update=False, description='weight_num:')\n",
    "        view = widgets.Dropdown(options=['per epoch', 'per batch'],\n",
    "                               value='per epoch', description='view:')\n",
    "        iteration = widgets.BoundedIntText(min=0, max=0, step=1,\n",
    "                                     value=0, continuous_update=False, description='batch_num:')\n",
    "        \n",
    "        # UI\n",
    "        ui1 = widgets.HBox([rot_angle, height_angle])\n",
    "        ui2 = widgets.HBox([view, howmuch, bound])\n",
    "        ui3 = widgets.HBox([epoch, iteration, weightnum])\n",
    "        ui = widgets.VBox([ui1,ui2,ui3])\n",
    "        ui.layout.height = '100px'\n",
    "\n",
    "        \n",
    "        # Input-handler to plotweights\n",
    "        param = {'epoch': epoch,\n",
    "                 'rot_angle': rot_angle,\n",
    "                 'height_angle': height_angle,\n",
    "                 'weightnum': weightnum,\n",
    "                 'bound': bound,\n",
    "                 'howmuch': howmuch, \n",
    "                 'view': view, \n",
    "                 'iteration': iteration}\n",
    "        out = widgets.interactive_output(self.plotweights, param)\n",
    "\n",
    "        \n",
    "        # Display graph and everything\n",
    "        display(ui,out)\n",
    "\n",
    "        # Def func to make sure min/max of values aren't fucked when changing input params\n",
    "        def update_weightnum(x):  \n",
    "            if howmuch.value == 'single':\n",
    "                if bound.value == 'in':\n",
    "                    weightnum.max = in_num-1\n",
    "                elif bound.value == 'out':\n",
    "                        weightnum.max = out_num-1\n",
    "                elif bound.value == 'both':\n",
    "                    weightnum.max = num-1\n",
    "            else:\n",
    "                weightnum.max = 0\n",
    "        \n",
    "        def update_iteration(x):\n",
    "            if view.value == 'per epoch':\n",
    "                iteration.max = 0\n",
    "            elif view.value == 'per batch':\n",
    "                iteration.max = its-1\n",
    "        \n",
    "        \n",
    "        # Run func to make sure  min/max of values aren't fucked when changing input params\n",
    "        howmuch.observe(update_weightnum)\n",
    "        bound.observe(update_weightnum)\n",
    "        view.observe(update_iteration)\n",
    "\n",
    "# The input file must be formatted as:\n",
    "# np.save(filename,(weights,losses,bounds,sample_size,out_dim,epochs))\n",
    "\n"
   ]
  },
  {
   "cell_type": "code",
   "execution_count": 9,
   "metadata": {},
   "outputs": [
    {
     "data": {
      "application/vnd.jupyter.widget-view+json": {
       "model_id": "9357aee9f4724c66a00929a2590c884b",
       "version_major": 2,
       "version_minor": 0
      },
      "text/html": [
       "<p>Failed to display Jupyter Widget of type <code>VBox</code>.</p>\n",
       "<p>\n",
       "  If you're reading this message in the Jupyter Notebook or JupyterLab Notebook, it may mean\n",
       "  that the widgets JavaScript is still loading. If this message persists, it\n",
       "  likely means that the widgets JavaScript library is either not installed or\n",
       "  not enabled. See the <a href=\"https://ipywidgets.readthedocs.io/en/stable/user_install.html\">Jupyter\n",
       "  Widgets Documentation</a> for setup instructions.\n",
       "</p>\n",
       "<p>\n",
       "  If you're reading this message in another frontend (for example, a static\n",
       "  rendering on GitHub or <a href=\"https://nbviewer.jupyter.org/\">NBViewer</a>),\n",
       "  it may mean that your frontend doesn't currently support widgets.\n",
       "</p>\n"
      ],
      "text/plain": [
       "VBox(children=(HBox(children=(IntSlider(value=160, continuous_update=False, description='r_angle:', max=360), IntSlider(value=30, continuous_update=False, description='h_angle:', max=90))), HBox(children=(Dropdown(description='view:', options=('per epoch', 'per batch'), value='per epoch'), Dropdown(description='display:', index=2, options=('single', 'mean', 'all'), value='all'), Dropdown(description='boundaries:', options=('in', 'out', 'both'), value='in'))), HBox(children=(BoundedIntText(value=1000, description='epoch:', max=1000), BoundedIntText(value=0, description='batch_num:', max=0), BoundedIntText(value=0, description='weight_num:', max=33)))), layout=Layout(height='100px'))"
      ]
     },
     "metadata": {},
     "output_type": "display_data"
    },
    {
     "data": {
      "application/vnd.jupyter.widget-view+json": {
       "model_id": "185ebf670af44df5ad6089cbccbd609a",
       "version_major": 2,
       "version_minor": 0
      },
      "text/html": [
       "<p>Failed to display Jupyter Widget of type <code>Output</code>.</p>\n",
       "<p>\n",
       "  If you're reading this message in the Jupyter Notebook or JupyterLab Notebook, it may mean\n",
       "  that the widgets JavaScript is still loading. If this message persists, it\n",
       "  likely means that the widgets JavaScript library is either not installed or\n",
       "  not enabled. See the <a href=\"https://ipywidgets.readthedocs.io/en/stable/user_install.html\">Jupyter\n",
       "  Widgets Documentation</a> for setup instructions.\n",
       "</p>\n",
       "<p>\n",
       "  If you're reading this message in another frontend (for example, a static\n",
       "  rendering on GitHub or <a href=\"https://nbviewer.jupyter.org/\">NBViewer</a>),\n",
       "  it may mean that your frontend doesn't currently support widgets.\n",
       "</p>\n"
      ],
      "text/plain": [
       "Output()"
      ]
     },
     "metadata": {},
     "output_type": "display_data"
    }
   ],
   "source": [
    "wtf = WeightMov(\"NAC_init_Ones_set_size_100.npy\",20)"
   ]
  },
  {
   "cell_type": "code",
   "execution_count": 10,
   "metadata": {},
   "outputs": [
    {
     "data": {
      "application/vnd.jupyter.widget-view+json": {
       "model_id": "f9b3fa3cd8784af2945c6e362de1af91",
       "version_major": 2,
       "version_minor": 0
      },
      "text/html": [
       "<p>Failed to display Jupyter Widget of type <code>VBox</code>.</p>\n",
       "<p>\n",
       "  If you're reading this message in the Jupyter Notebook or JupyterLab Notebook, it may mean\n",
       "  that the widgets JavaScript is still loading. If this message persists, it\n",
       "  likely means that the widgets JavaScript library is either not installed or\n",
       "  not enabled. See the <a href=\"https://ipywidgets.readthedocs.io/en/stable/user_install.html\">Jupyter\n",
       "  Widgets Documentation</a> for setup instructions.\n",
       "</p>\n",
       "<p>\n",
       "  If you're reading this message in another frontend (for example, a static\n",
       "  rendering on GitHub or <a href=\"https://nbviewer.jupyter.org/\">NBViewer</a>),\n",
       "  it may mean that your frontend doesn't currently support widgets.\n",
       "</p>\n"
      ],
      "text/plain": [
       "VBox(children=(HBox(children=(IntSlider(value=160, continuous_update=False, description='r_angle:', max=360), IntSlider(value=30, continuous_update=False, description='h_angle:', max=90))), HBox(children=(Dropdown(description='view:', options=('per epoch', 'per batch'), value='per epoch'), Dropdown(description='display:', index=2, options=('single', 'mean', 'all'), value='all'), Dropdown(description='boundaries:', options=('in', 'out', 'both'), value='in'))), HBox(children=(BoundedIntText(value=1000, description='epoch:', max=1000), BoundedIntText(value=0, description='batch_num:', max=0), BoundedIntText(value=0, description='weight_num:', max=57)))), layout=Layout(height='100px'))"
      ]
     },
     "metadata": {},
     "output_type": "display_data"
    },
    {
     "data": {
      "application/vnd.jupyter.widget-view+json": {
       "model_id": "6ffa48212d204ef78c5089a532076eff",
       "version_major": 2,
       "version_minor": 0
      },
      "text/html": [
       "<p>Failed to display Jupyter Widget of type <code>Output</code>.</p>\n",
       "<p>\n",
       "  If you're reading this message in the Jupyter Notebook or JupyterLab Notebook, it may mean\n",
       "  that the widgets JavaScript is still loading. If this message persists, it\n",
       "  likely means that the widgets JavaScript library is either not installed or\n",
       "  not enabled. See the <a href=\"https://ipywidgets.readthedocs.io/en/stable/user_install.html\">Jupyter\n",
       "  Widgets Documentation</a> for setup instructions.\n",
       "</p>\n",
       "<p>\n",
       "  If you're reading this message in another frontend (for example, a static\n",
       "  rendering on GitHub or <a href=\"https://nbviewer.jupyter.org/\">NBViewer</a>),\n",
       "  it may mean that your frontend doesn't currently support widgets.\n",
       "</p>\n"
      ],
      "text/plain": [
       "Output()"
      ]
     },
     "metadata": {},
     "output_type": "display_data"
    }
   ],
   "source": [
    "wtf = WeightMov(\"NAC_init_Zeros_set_size_100.npy\",20)"
   ]
  },
  {
   "cell_type": "code",
   "execution_count": 11,
   "metadata": {},
   "outputs": [
    {
     "data": {
      "application/vnd.jupyter.widget-view+json": {
       "model_id": "74b46c5dee9b4ce0a87391f19c972969",
       "version_major": 2,
       "version_minor": 0
      },
      "text/html": [
       "<p>Failed to display Jupyter Widget of type <code>VBox</code>.</p>\n",
       "<p>\n",
       "  If you're reading this message in the Jupyter Notebook or JupyterLab Notebook, it may mean\n",
       "  that the widgets JavaScript is still loading. If this message persists, it\n",
       "  likely means that the widgets JavaScript library is either not installed or\n",
       "  not enabled. See the <a href=\"https://ipywidgets.readthedocs.io/en/stable/user_install.html\">Jupyter\n",
       "  Widgets Documentation</a> for setup instructions.\n",
       "</p>\n",
       "<p>\n",
       "  If you're reading this message in another frontend (for example, a static\n",
       "  rendering on GitHub or <a href=\"https://nbviewer.jupyter.org/\">NBViewer</a>),\n",
       "  it may mean that your frontend doesn't currently support widgets.\n",
       "</p>\n"
      ],
      "text/plain": [
       "VBox(children=(HBox(children=(IntSlider(value=160, continuous_update=False, description='r_angle:', max=360), IntSlider(value=30, continuous_update=False, description='h_angle:', max=90))), HBox(children=(Dropdown(description='view:', options=('per epoch', 'per batch'), value='per epoch'), Dropdown(description='display:', index=2, options=('single', 'mean', 'all'), value='all'), Dropdown(description='boundaries:', options=('in', 'out', 'both'), value='in'))), HBox(children=(BoundedIntText(value=1000, description='epoch:', max=1000), BoundedIntText(value=0, description='batch_num:', max=0), BoundedIntText(value=0, description='weight_num:', max=34)))), layout=Layout(height='100px'))"
      ]
     },
     "metadata": {},
     "output_type": "display_data"
    },
    {
     "data": {
      "application/vnd.jupyter.widget-view+json": {
       "model_id": "73574a3cc01f415691c86315db7e834b",
       "version_major": 2,
       "version_minor": 0
      },
      "text/html": [
       "<p>Failed to display Jupyter Widget of type <code>Output</code>.</p>\n",
       "<p>\n",
       "  If you're reading this message in the Jupyter Notebook or JupyterLab Notebook, it may mean\n",
       "  that the widgets JavaScript is still loading. If this message persists, it\n",
       "  likely means that the widgets JavaScript library is either not installed or\n",
       "  not enabled. See the <a href=\"https://ipywidgets.readthedocs.io/en/stable/user_install.html\">Jupyter\n",
       "  Widgets Documentation</a> for setup instructions.\n",
       "</p>\n",
       "<p>\n",
       "  If you're reading this message in another frontend (for example, a static\n",
       "  rendering on GitHub or <a href=\"https://nbviewer.jupyter.org/\">NBViewer</a>),\n",
       "  it may mean that your frontend doesn't currently support widgets.\n",
       "</p>\n"
      ],
      "text/plain": [
       "Output()"
      ]
     },
     "metadata": {},
     "output_type": "display_data"
    }
   ],
   "source": [
    "wtf = WeightMov(\"NAC_init_Kai_uni_set_size_100.npy\",20)"
   ]
  },
  {
   "cell_type": "code",
   "execution_count": 12,
   "metadata": {},
   "outputs": [
    {
     "data": {
      "application/vnd.jupyter.widget-view+json": {
       "model_id": "364a24ffb611452fa5fb91cd6e7c0c03",
       "version_major": 2,
       "version_minor": 0
      },
      "text/html": [
       "<p>Failed to display Jupyter Widget of type <code>VBox</code>.</p>\n",
       "<p>\n",
       "  If you're reading this message in the Jupyter Notebook or JupyterLab Notebook, it may mean\n",
       "  that the widgets JavaScript is still loading. If this message persists, it\n",
       "  likely means that the widgets JavaScript library is either not installed or\n",
       "  not enabled. See the <a href=\"https://ipywidgets.readthedocs.io/en/stable/user_install.html\">Jupyter\n",
       "  Widgets Documentation</a> for setup instructions.\n",
       "</p>\n",
       "<p>\n",
       "  If you're reading this message in another frontend (for example, a static\n",
       "  rendering on GitHub or <a href=\"https://nbviewer.jupyter.org/\">NBViewer</a>),\n",
       "  it may mean that your frontend doesn't currently support widgets.\n",
       "</p>\n"
      ],
      "text/plain": [
       "VBox(children=(HBox(children=(IntSlider(value=160, continuous_update=False, description='r_angle:', max=360), IntSlider(value=30, continuous_update=False, description='h_angle:', max=90))), HBox(children=(Dropdown(description='view:', options=('per epoch', 'per batch'), value='per epoch'), Dropdown(description='display:', index=2, options=('single', 'mean', 'all'), value='all'), Dropdown(description='boundaries:', options=('in', 'out', 'both'), value='in'))), HBox(children=(BoundedIntText(value=1000, description='epoch:', max=1000), BoundedIntText(value=0, description='batch_num:', max=0), BoundedIntText(value=0, description='weight_num:', max=51)))), layout=Layout(height='100px'))"
      ]
     },
     "metadata": {},
     "output_type": "display_data"
    },
    {
     "data": {
      "application/vnd.jupyter.widget-view+json": {
       "model_id": "5022e5fb86a34ed8b5883917b25b838e",
       "version_major": 2,
       "version_minor": 0
      },
      "text/html": [
       "<p>Failed to display Jupyter Widget of type <code>Output</code>.</p>\n",
       "<p>\n",
       "  If you're reading this message in the Jupyter Notebook or JupyterLab Notebook, it may mean\n",
       "  that the widgets JavaScript is still loading. If this message persists, it\n",
       "  likely means that the widgets JavaScript library is either not installed or\n",
       "  not enabled. See the <a href=\"https://ipywidgets.readthedocs.io/en/stable/user_install.html\">Jupyter\n",
       "  Widgets Documentation</a> for setup instructions.\n",
       "</p>\n",
       "<p>\n",
       "  If you're reading this message in another frontend (for example, a static\n",
       "  rendering on GitHub or <a href=\"https://nbviewer.jupyter.org/\">NBViewer</a>),\n",
       "  it may mean that your frontend doesn't currently support widgets.\n",
       "</p>\n"
      ],
      "text/plain": [
       "Output()"
      ]
     },
     "metadata": {},
     "output_type": "display_data"
    }
   ],
   "source": [
    "wtf = WeightMov(\"NAC_init_Kai_norm_set_size_100.npy\",20)"
   ]
  },
  {
   "cell_type": "code",
   "execution_count": 13,
   "metadata": {},
   "outputs": [
    {
     "data": {
      "application/vnd.jupyter.widget-view+json": {
       "model_id": "4d28d43621684c7baef4babf29c6e5b4",
       "version_major": 2,
       "version_minor": 0
      },
      "text/html": [
       "<p>Failed to display Jupyter Widget of type <code>VBox</code>.</p>\n",
       "<p>\n",
       "  If you're reading this message in the Jupyter Notebook or JupyterLab Notebook, it may mean\n",
       "  that the widgets JavaScript is still loading. If this message persists, it\n",
       "  likely means that the widgets JavaScript library is either not installed or\n",
       "  not enabled. See the <a href=\"https://ipywidgets.readthedocs.io/en/stable/user_install.html\">Jupyter\n",
       "  Widgets Documentation</a> for setup instructions.\n",
       "</p>\n",
       "<p>\n",
       "  If you're reading this message in another frontend (for example, a static\n",
       "  rendering on GitHub or <a href=\"https://nbviewer.jupyter.org/\">NBViewer</a>),\n",
       "  it may mean that your frontend doesn't currently support widgets.\n",
       "</p>\n"
      ],
      "text/plain": [
       "VBox(children=(HBox(children=(IntSlider(value=160, continuous_update=False, description='r_angle:', max=360), IntSlider(value=30, continuous_update=False, description='h_angle:', max=90))), HBox(children=(Dropdown(description='view:', options=('per epoch', 'per batch'), value='per epoch'), Dropdown(description='display:', index=2, options=('single', 'mean', 'all'), value='all'), Dropdown(description='boundaries:', options=('in', 'out', 'both'), value='in'))), HBox(children=(BoundedIntText(value=1000, description='epoch:', max=1000), BoundedIntText(value=0, description='batch_num:', max=0), BoundedIntText(value=0, description='weight_num:', max=35)))), layout=Layout(height='100px'))"
      ]
     },
     "metadata": {},
     "output_type": "display_data"
    },
    {
     "data": {
      "application/vnd.jupyter.widget-view+json": {
       "model_id": "240911df6def4b1582506a6f6d37f6f7",
       "version_major": 2,
       "version_minor": 0
      },
      "text/html": [
       "<p>Failed to display Jupyter Widget of type <code>Output</code>.</p>\n",
       "<p>\n",
       "  If you're reading this message in the Jupyter Notebook or JupyterLab Notebook, it may mean\n",
       "  that the widgets JavaScript is still loading. If this message persists, it\n",
       "  likely means that the widgets JavaScript library is either not installed or\n",
       "  not enabled. See the <a href=\"https://ipywidgets.readthedocs.io/en/stable/user_install.html\">Jupyter\n",
       "  Widgets Documentation</a> for setup instructions.\n",
       "</p>\n",
       "<p>\n",
       "  If you're reading this message in another frontend (for example, a static\n",
       "  rendering on GitHub or <a href=\"https://nbviewer.jupyter.org/\">NBViewer</a>),\n",
       "  it may mean that your frontend doesn't currently support widgets.\n",
       "</p>\n"
      ],
      "text/plain": [
       "Output()"
      ]
     },
     "metadata": {},
     "output_type": "display_data"
    }
   ],
   "source": [
    "wtf = WeightMov(\"NAC_init_Xav_norm_set_size_100.npy\",20)"
   ]
  },
  {
   "cell_type": "code",
   "execution_count": 14,
   "metadata": {},
   "outputs": [
    {
     "data": {
      "application/vnd.jupyter.widget-view+json": {
       "model_id": "a4b3e3a2372a4ae283017a38d44b97ab",
       "version_major": 2,
       "version_minor": 0
      },
      "text/html": [
       "<p>Failed to display Jupyter Widget of type <code>VBox</code>.</p>\n",
       "<p>\n",
       "  If you're reading this message in the Jupyter Notebook or JupyterLab Notebook, it may mean\n",
       "  that the widgets JavaScript is still loading. If this message persists, it\n",
       "  likely means that the widgets JavaScript library is either not installed or\n",
       "  not enabled. See the <a href=\"https://ipywidgets.readthedocs.io/en/stable/user_install.html\">Jupyter\n",
       "  Widgets Documentation</a> for setup instructions.\n",
       "</p>\n",
       "<p>\n",
       "  If you're reading this message in another frontend (for example, a static\n",
       "  rendering on GitHub or <a href=\"https://nbviewer.jupyter.org/\">NBViewer</a>),\n",
       "  it may mean that your frontend doesn't currently support widgets.\n",
       "</p>\n"
      ],
      "text/plain": [
       "VBox(children=(HBox(children=(IntSlider(value=160, continuous_update=False, description='r_angle:', max=360), IntSlider(value=30, continuous_update=False, description='h_angle:', max=90))), HBox(children=(Dropdown(description='view:', options=('per epoch', 'per batch'), value='per epoch'), Dropdown(description='display:', index=2, options=('single', 'mean', 'all'), value='all'), Dropdown(description='boundaries:', options=('in', 'out', 'both'), value='in'))), HBox(children=(BoundedIntText(value=1000, description='epoch:', max=1000), BoundedIntText(value=0, description='batch_num:', max=0), BoundedIntText(value=0, description='weight_num:', max=64)))), layout=Layout(height='100px'))"
      ]
     },
     "metadata": {},
     "output_type": "display_data"
    },
    {
     "data": {
      "application/vnd.jupyter.widget-view+json": {
       "model_id": "216e0832e2344f5bad237a3c8ffca544",
       "version_major": 2,
       "version_minor": 0
      },
      "text/html": [
       "<p>Failed to display Jupyter Widget of type <code>Output</code>.</p>\n",
       "<p>\n",
       "  If you're reading this message in the Jupyter Notebook or JupyterLab Notebook, it may mean\n",
       "  that the widgets JavaScript is still loading. If this message persists, it\n",
       "  likely means that the widgets JavaScript library is either not installed or\n",
       "  not enabled. See the <a href=\"https://ipywidgets.readthedocs.io/en/stable/user_install.html\">Jupyter\n",
       "  Widgets Documentation</a> for setup instructions.\n",
       "</p>\n",
       "<p>\n",
       "  If you're reading this message in another frontend (for example, a static\n",
       "  rendering on GitHub or <a href=\"https://nbviewer.jupyter.org/\">NBViewer</a>),\n",
       "  it may mean that your frontend doesn't currently support widgets.\n",
       "</p>\n"
      ],
      "text/plain": [
       "Output()"
      ]
     },
     "metadata": {},
     "output_type": "display_data"
    }
   ],
   "source": [
    "wtf = WeightMov(\"NALU_init_Ones_set_size_100.npy\",20)"
   ]
  },
  {
   "cell_type": "code",
   "execution_count": 15,
   "metadata": {},
   "outputs": [
    {
     "data": {
      "application/vnd.jupyter.widget-view+json": {
       "model_id": "b426503c7f3a466386acdc247dbedc1d",
       "version_major": 2,
       "version_minor": 0
      },
      "text/html": [
       "<p>Failed to display Jupyter Widget of type <code>VBox</code>.</p>\n",
       "<p>\n",
       "  If you're reading this message in the Jupyter Notebook or JupyterLab Notebook, it may mean\n",
       "  that the widgets JavaScript is still loading. If this message persists, it\n",
       "  likely means that the widgets JavaScript library is either not installed or\n",
       "  not enabled. See the <a href=\"https://ipywidgets.readthedocs.io/en/stable/user_install.html\">Jupyter\n",
       "  Widgets Documentation</a> for setup instructions.\n",
       "</p>\n",
       "<p>\n",
       "  If you're reading this message in another frontend (for example, a static\n",
       "  rendering on GitHub or <a href=\"https://nbviewer.jupyter.org/\">NBViewer</a>),\n",
       "  it may mean that your frontend doesn't currently support widgets.\n",
       "</p>\n"
      ],
      "text/plain": [
       "VBox(children=(HBox(children=(IntSlider(value=160, continuous_update=False, description='r_angle:', max=360), IntSlider(value=30, continuous_update=False, description='h_angle:', max=90))), HBox(children=(Dropdown(description='view:', options=('per epoch', 'per batch'), value='per epoch'), Dropdown(description='display:', index=2, options=('single', 'mean', 'all'), value='all'), Dropdown(description='boundaries:', options=('in', 'out', 'both'), value='in'))), HBox(children=(BoundedIntText(value=1000, description='epoch:', max=1000), BoundedIntText(value=0, description='batch_num:', max=0), BoundedIntText(value=0, description='weight_num:', max=55)))), layout=Layout(height='100px'))"
      ]
     },
     "metadata": {},
     "output_type": "display_data"
    },
    {
     "data": {
      "application/vnd.jupyter.widget-view+json": {
       "model_id": "6a9a8e8fc3bf4292a7f2356bac283b2d",
       "version_major": 2,
       "version_minor": 0
      },
      "text/html": [
       "<p>Failed to display Jupyter Widget of type <code>Output</code>.</p>\n",
       "<p>\n",
       "  If you're reading this message in the Jupyter Notebook or JupyterLab Notebook, it may mean\n",
       "  that the widgets JavaScript is still loading. If this message persists, it\n",
       "  likely means that the widgets JavaScript library is either not installed or\n",
       "  not enabled. See the <a href=\"https://ipywidgets.readthedocs.io/en/stable/user_install.html\">Jupyter\n",
       "  Widgets Documentation</a> for setup instructions.\n",
       "</p>\n",
       "<p>\n",
       "  If you're reading this message in another frontend (for example, a static\n",
       "  rendering on GitHub or <a href=\"https://nbviewer.jupyter.org/\">NBViewer</a>),\n",
       "  it may mean that your frontend doesn't currently support widgets.\n",
       "</p>\n"
      ],
      "text/plain": [
       "Output()"
      ]
     },
     "metadata": {},
     "output_type": "display_data"
    }
   ],
   "source": [
    "wtf = WeightMov(\"NALU_init_Zeros_set_size_100.npy\",20)"
   ]
  },
  {
   "cell_type": "code",
   "execution_count": 16,
   "metadata": {},
   "outputs": [
    {
     "data": {
      "application/vnd.jupyter.widget-view+json": {
       "model_id": "47c4191aacb94371a099a445a566a3c5",
       "version_major": 2,
       "version_minor": 0
      },
      "text/html": [
       "<p>Failed to display Jupyter Widget of type <code>VBox</code>.</p>\n",
       "<p>\n",
       "  If you're reading this message in the Jupyter Notebook or JupyterLab Notebook, it may mean\n",
       "  that the widgets JavaScript is still loading. If this message persists, it\n",
       "  likely means that the widgets JavaScript library is either not installed or\n",
       "  not enabled. See the <a href=\"https://ipywidgets.readthedocs.io/en/stable/user_install.html\">Jupyter\n",
       "  Widgets Documentation</a> for setup instructions.\n",
       "</p>\n",
       "<p>\n",
       "  If you're reading this message in another frontend (for example, a static\n",
       "  rendering on GitHub or <a href=\"https://nbviewer.jupyter.org/\">NBViewer</a>),\n",
       "  it may mean that your frontend doesn't currently support widgets.\n",
       "</p>\n"
      ],
      "text/plain": [
       "VBox(children=(HBox(children=(IntSlider(value=160, continuous_update=False, description='r_angle:', max=360), IntSlider(value=30, continuous_update=False, description='h_angle:', max=90))), HBox(children=(Dropdown(description='view:', options=('per epoch', 'per batch'), value='per epoch'), Dropdown(description='display:', index=2, options=('single', 'mean', 'all'), value='all'), Dropdown(description='boundaries:', options=('in', 'out', 'both'), value='in'))), HBox(children=(BoundedIntText(value=1000, description='epoch:', max=1000), BoundedIntText(value=0, description='batch_num:', max=0), BoundedIntText(value=0, description='weight_num:', max=34)))), layout=Layout(height='100px'))"
      ]
     },
     "metadata": {},
     "output_type": "display_data"
    },
    {
     "data": {
      "application/vnd.jupyter.widget-view+json": {
       "model_id": "bc090159f6d9406f8614f8da67586c82",
       "version_major": 2,
       "version_minor": 0
      },
      "text/html": [
       "<p>Failed to display Jupyter Widget of type <code>Output</code>.</p>\n",
       "<p>\n",
       "  If you're reading this message in the Jupyter Notebook or JupyterLab Notebook, it may mean\n",
       "  that the widgets JavaScript is still loading. If this message persists, it\n",
       "  likely means that the widgets JavaScript library is either not installed or\n",
       "  not enabled. See the <a href=\"https://ipywidgets.readthedocs.io/en/stable/user_install.html\">Jupyter\n",
       "  Widgets Documentation</a> for setup instructions.\n",
       "</p>\n",
       "<p>\n",
       "  If you're reading this message in another frontend (for example, a static\n",
       "  rendering on GitHub or <a href=\"https://nbviewer.jupyter.org/\">NBViewer</a>),\n",
       "  it may mean that your frontend doesn't currently support widgets.\n",
       "</p>\n"
      ],
      "text/plain": [
       "Output()"
      ]
     },
     "metadata": {},
     "output_type": "display_data"
    }
   ],
   "source": [
    "wtf = WeightMov(\"NALU_init_Kai_uni_set_size_100.npy\",20)"
   ]
  },
  {
   "cell_type": "code",
   "execution_count": 17,
   "metadata": {},
   "outputs": [
    {
     "data": {
      "application/vnd.jupyter.widget-view+json": {
       "model_id": "bc6d0c6acc57442181d5abdbe37e9ce6",
       "version_major": 2,
       "version_minor": 0
      },
      "text/html": [
       "<p>Failed to display Jupyter Widget of type <code>VBox</code>.</p>\n",
       "<p>\n",
       "  If you're reading this message in the Jupyter Notebook or JupyterLab Notebook, it may mean\n",
       "  that the widgets JavaScript is still loading. If this message persists, it\n",
       "  likely means that the widgets JavaScript library is either not installed or\n",
       "  not enabled. See the <a href=\"https://ipywidgets.readthedocs.io/en/stable/user_install.html\">Jupyter\n",
       "  Widgets Documentation</a> for setup instructions.\n",
       "</p>\n",
       "<p>\n",
       "  If you're reading this message in another frontend (for example, a static\n",
       "  rendering on GitHub or <a href=\"https://nbviewer.jupyter.org/\">NBViewer</a>),\n",
       "  it may mean that your frontend doesn't currently support widgets.\n",
       "</p>\n"
      ],
      "text/plain": [
       "VBox(children=(HBox(children=(IntSlider(value=160, continuous_update=False, description='r_angle:', max=360), IntSlider(value=30, continuous_update=False, description='h_angle:', max=90))), HBox(children=(Dropdown(description='view:', options=('per epoch', 'per batch'), value='per epoch'), Dropdown(description='display:', index=2, options=('single', 'mean', 'all'), value='all'), Dropdown(description='boundaries:', options=('in', 'out', 'both'), value='in'))), HBox(children=(BoundedIntText(value=1000, description='epoch:', max=1000), BoundedIntText(value=0, description='batch_num:', max=0), BoundedIntText(value=0, description='weight_num:', max=61)))), layout=Layout(height='100px'))"
      ]
     },
     "metadata": {},
     "output_type": "display_data"
    },
    {
     "data": {
      "application/vnd.jupyter.widget-view+json": {
       "model_id": "fe0dbcc6a7ea4aa1a116fedd06767a6f",
       "version_major": 2,
       "version_minor": 0
      },
      "text/html": [
       "<p>Failed to display Jupyter Widget of type <code>Output</code>.</p>\n",
       "<p>\n",
       "  If you're reading this message in the Jupyter Notebook or JupyterLab Notebook, it may mean\n",
       "  that the widgets JavaScript is still loading. If this message persists, it\n",
       "  likely means that the widgets JavaScript library is either not installed or\n",
       "  not enabled. See the <a href=\"https://ipywidgets.readthedocs.io/en/stable/user_install.html\">Jupyter\n",
       "  Widgets Documentation</a> for setup instructions.\n",
       "</p>\n",
       "<p>\n",
       "  If you're reading this message in another frontend (for example, a static\n",
       "  rendering on GitHub or <a href=\"https://nbviewer.jupyter.org/\">NBViewer</a>),\n",
       "  it may mean that your frontend doesn't currently support widgets.\n",
       "</p>\n"
      ],
      "text/plain": [
       "Output()"
      ]
     },
     "metadata": {},
     "output_type": "display_data"
    }
   ],
   "source": [
    "wtf = WeightMov(\"NALU_init_Kai_norm_set_size_100.npy\",20)"
   ]
  },
  {
   "cell_type": "code",
   "execution_count": 22,
   "metadata": {
    "scrolled": false
   },
   "outputs": [
    {
     "data": {
      "application/vnd.jupyter.widget-view+json": {
       "model_id": "d75f67cbb7ca411f98b9f3423bcc0747",
       "version_major": 2,
       "version_minor": 0
      },
      "text/html": [
       "<p>Failed to display Jupyter Widget of type <code>VBox</code>.</p>\n",
       "<p>\n",
       "  If you're reading this message in the Jupyter Notebook or JupyterLab Notebook, it may mean\n",
       "  that the widgets JavaScript is still loading. If this message persists, it\n",
       "  likely means that the widgets JavaScript library is either not installed or\n",
       "  not enabled. See the <a href=\"https://ipywidgets.readthedocs.io/en/stable/user_install.html\">Jupyter\n",
       "  Widgets Documentation</a> for setup instructions.\n",
       "</p>\n",
       "<p>\n",
       "  If you're reading this message in another frontend (for example, a static\n",
       "  rendering on GitHub or <a href=\"https://nbviewer.jupyter.org/\">NBViewer</a>),\n",
       "  it may mean that your frontend doesn't currently support widgets.\n",
       "</p>\n"
      ],
      "text/plain": [
       "VBox(children=(HBox(children=(IntSlider(value=160, continuous_update=False, description='r_angle:', max=360), IntSlider(value=30, continuous_update=False, description='h_angle:', max=90))), HBox(children=(Dropdown(description='view:', options=('per epoch', 'per batch'), value='per epoch'), Dropdown(description='display:', index=2, options=('single', 'mean', 'all'), value='all'), Dropdown(description='boundaries:', options=('in', 'out', 'both'), value='in'))), HBox(children=(BoundedIntText(value=1000, description='epoch:', max=1000), BoundedIntText(value=0, description='batch_num:', max=0), BoundedIntText(value=0, description='weight_num:', max=32)))), layout=Layout(height='100px'))"
      ]
     },
     "metadata": {},
     "output_type": "display_data"
    },
    {
     "data": {
      "application/vnd.jupyter.widget-view+json": {
       "model_id": "69c4029dfc964b179abf5ef4928e192b",
       "version_major": 2,
       "version_minor": 0
      },
      "text/html": [
       "<p>Failed to display Jupyter Widget of type <code>Output</code>.</p>\n",
       "<p>\n",
       "  If you're reading this message in the Jupyter Notebook or JupyterLab Notebook, it may mean\n",
       "  that the widgets JavaScript is still loading. If this message persists, it\n",
       "  likely means that the widgets JavaScript library is either not installed or\n",
       "  not enabled. See the <a href=\"https://ipywidgets.readthedocs.io/en/stable/user_install.html\">Jupyter\n",
       "  Widgets Documentation</a> for setup instructions.\n",
       "</p>\n",
       "<p>\n",
       "  If you're reading this message in another frontend (for example, a static\n",
       "  rendering on GitHub or <a href=\"https://nbviewer.jupyter.org/\">NBViewer</a>),\n",
       "  it may mean that your frontend doesn't currently support widgets.\n",
       "</p>\n"
      ],
      "text/plain": [
       "Output()"
      ]
     },
     "metadata": {},
     "output_type": "display_data"
    }
   ],
   "source": [
    "wtf = WeightMov(\"NALU_init_Xav_norm_set_size_100.npy\",20)"
   ]
  }
 ],
 "metadata": {
  "kernelspec": {
   "display_name": "Python 3",
   "language": "python",
   "name": "python3"
  },
  "language_info": {
   "codemirror_mode": {
    "name": "ipython",
    "version": 3
   },
   "file_extension": ".py",
   "mimetype": "text/x-python",
   "name": "python",
   "nbconvert_exporter": "python",
   "pygments_lexer": "ipython3",
   "version": "3.6.4"
  }
 },
 "nbformat": 4,
 "nbformat_minor": 2
}
