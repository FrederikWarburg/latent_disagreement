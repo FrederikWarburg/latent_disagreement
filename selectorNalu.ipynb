{
 "cells": [
  {
   "cell_type": "code",
   "execution_count": 1,
   "metadata": {},
   "outputs": [],
   "source": [
    "#from models.nalu import NALU\n",
    "import torch.nn.functional as F\n",
    "import torch\n",
    "import numpy as np\n",
    "import matplotlib.pyplot as plt\n",
    "import matplotlib\n",
    "from tqdm import tqdm_notebook as tqdm\n",
    "\n",
    "from data_generator_helper import generate_synthetic_selection_dataset\n",
    "\n",
    "from models.nalu import NALU\n",
    "import torch\n",
    "import torchvision.utils as vutils\n",
    "import numpy as np\n",
    "import torchvision.models as models\n",
    "from torchvision import datasets\n",
    "from tensorboardX import SummaryWriter\n",
    "import datetime\n",
    "import os"
   ]
  },
  {
   "cell_type": "code",
   "execution_count": 5,
   "metadata": {},
   "outputs": [],
   "source": [
    "def reportLoss(loss):\n",
    "    print(loss)\n",
    "    \n",
    "def train(model, optimizer, x_train, y_train, epochs, batch_size):\n",
    "    for epoch in range(epochs):\n",
    "\n",
    "        for batch in range(len(x_train) // batch_size):\n",
    "\n",
    "            model.train()\n",
    "            optimizer.zero_grad()\n",
    "\n",
    "            x_batch_train = x_train[batch:(batch+batch_size),:]\n",
    "            y_batch_train = y_train[batch:(batch+batch_size),:]\n",
    "\n",
    "            out = model(x_batch_train)\n",
    "\n",
    "            loss = F.mse_loss(out, y_batch_train)\n",
    "            \n",
    "            if loss != loss:\n",
    "                print(\"nan detected\")\n",
    "            \n",
    "            loss.backward()\n",
    "            optimizer.step()\n",
    "\n",
    "        if epoch % 10 == 0: \n",
    "            pass\n",
    "            #reportLoss(loss.data)\n",
    "            \n",
    "    return test(model,x_train,y_train)\n",
    "        \n",
    "def test(model, x_test, y_test):\n",
    "    \n",
    "    model.eval()\n",
    "    output_test = model(x_test)\n",
    "    loss = F.mse_loss(output_test, y_test)\n",
    "    \n",
    "    return loss"
   ]
  },
  {
   "cell_type": "code",
   "execution_count": 7,
   "metadata": {},
   "outputs": [
    {
     "name": "stdout",
     "output_type": "stream",
     "text": [
      "[   1.  112.  223.  334.  445.  556.  667.  778.  889. 1000.]\n"
     ]
    },
    {
     "data": {
      "application/vnd.jupyter.widget-view+json": {
       "model_id": "73d9e8f9cf3042bd952404dffb4abde9",
       "version_major": 2,
       "version_minor": 0
      },
      "text/plain": [
       "HBox(children=(IntProgress(value=1, bar_style='info', max=1), HTML(value='')))"
      ]
     },
     "metadata": {},
     "output_type": "display_data"
    },
    {
     "ename": "NameError",
     "evalue": "name 'train_lost' is not defined",
     "output_type": "error",
     "traceback": [
      "\u001b[0;31m---------------------------------------------------------------------------\u001b[0m",
      "\u001b[0;31mNameError\u001b[0m                                 Traceback (most recent call last)",
      "\u001b[0;32m<ipython-input-7-86d357ee4a5b>\u001b[0m in \u001b[0;36m<module>\u001b[0;34m()\u001b[0m\n\u001b[1;32m     39\u001b[0m         \u001b[0mtest_loss\u001b[0m\u001b[0;34m[\u001b[0m\u001b[0mj\u001b[0m\u001b[0;34m,\u001b[0m \u001b[0mi\u001b[0m\u001b[0;34m]\u001b[0m  \u001b[0;34m=\u001b[0m \u001b[0mtest\u001b[0m\u001b[0;34m(\u001b[0m\u001b[0mmodel\u001b[0m\u001b[0;34m,\u001b[0m \u001b[0mx_test\u001b[0m\u001b[0;34m,\u001b[0m \u001b[0my_test\u001b[0m\u001b[0;34m)\u001b[0m\u001b[0;34m\u001b[0m\u001b[0m\n\u001b[1;32m     40\u001b[0m \u001b[0;34m\u001b[0m\u001b[0m\n\u001b[0;32m---> 41\u001b[0;31m \u001b[0mprint\u001b[0m\u001b[0;34m(\u001b[0m\u001b[0mtrain_lost\u001b[0m\u001b[0;34m)\u001b[0m\u001b[0;34m\u001b[0m\u001b[0m\n\u001b[0m\u001b[1;32m     42\u001b[0m \u001b[0mprint\u001b[0m\u001b[0;34m(\u001b[0m\u001b[0mtest_loss\u001b[0m\u001b[0;34m)\u001b[0m\u001b[0;34m\u001b[0m\u001b[0m\n",
      "\u001b[0;31mNameError\u001b[0m: name 'train_lost' is not defined"
     ]
    }
   ],
   "source": [
    "test_per_range = 10\n",
    "sample_size = 100\n",
    "set_size = 1000\n",
    "\n",
    "in_dim = sample_size\n",
    "hidden_dim = 1\n",
    "out_dim = 2\n",
    "num_layers = 1\n",
    "\n",
    "lr = 0.01\n",
    "epochs = 500\n",
    "batch_size = 10\n",
    "\n",
    "values = np.linspace(1,1000,10)\n",
    "\n",
    "train_loss = np.zeros((len(values),10))\n",
    "test_loss = np.zeros((len(values),10))\n",
    "print(values)\n",
    "for j, value in tqdm(enumerate(values)):\n",
    "\n",
    "    min_value = -value\n",
    "    max_value = value\n",
    "    \n",
    "    train_acc = 0\n",
    "    test_acc = 0\n",
    "    for i in range(test_per_range):\n",
    "\n",
    "        model = NALU(num_layers, in_dim, hidden_dim, out_dim)\n",
    "        optimizer = torch.optim.RMSprop(model.parameters(),lr=lr)\n",
    "\n",
    "        x_train, y_train, boundaries = generate_synthetic_selection_dataset(min_value, max_value,\n",
    "                                                                    sample_size, set_size, boundaries = None)\n",
    "\n",
    "        x_test, y_test, _ = generate_synthetic_selection_dataset(min_value, max_value,\n",
    "                                                                    sample_size, set_size, boundaries = boundaries)\n",
    "\n",
    "        train_loss[j, i] = train(model, optimizer, x_train, y_train, epochs, batch_size)\n",
    "\n",
    "        test_loss[j, i]  = test(model, x_test, y_test)\n",
    "    \n"
   ]
  },
  {
   "cell_type": "code",
   "execution_count": 11,
   "metadata": {},
   "outputs": [
    {
     "name": "stdout",
     "output_type": "stream",
     "text": [
      "[[5.00000000e+00 4.00000000e+00 4.00000000e+00 3.00000000e+00\n",
      "  3.00000000e+00 2.20000000e+01 5.00000000e+00 3.00000000e+00\n",
      "  4.00000000e+00 4.00000000e+00]\n",
      " [1.41491000e+05 1.21995000e+05 4.08200000e+04 2.20510000e+05\n",
      "  2.45469808e+08 1.44750000e+04 1.61412000e+05 4.47281000e+05\n",
      "  8.95774000e+05 1.75991665e+10]\n",
      " [1.23117700e+06 3.12619451e+21 5.60433000e+05 2.03818000e+05\n",
      "  5.24849000e+05 1.12442611e+24 7.64491000e+05 4.07334000e+05\n",
      "  3.05926000e+05 2.26341370e+23]\n",
      " [4.85907000e+05 2.73656000e+05 1.78928345e+24 8.39173000e+05\n",
      "  8.23115395e+25 1.57607270e+23 9.69050080e+07 2.33036200e+06\n",
      "  3.14791391e+22 1.03217577e+23]\n",
      " [2.38814229e+28 2.36391890e+17 2.83447789e+29 4.11776987e+27\n",
      "  1.53363443e+09 1.10385800e+06 1.20416481e+26 2.45311200e+06\n",
      "  4.51077620e+23 4.27761954e+26]\n",
      " [1.21720567e+24 1.03545300e+06 1.43134383e+24 4.67993393e+23\n",
      "  6.52361126e+25 5.17992859e+30 1.43072982e+25 1.50654500e+06\n",
      "  1.58664601e+21 9.83588418e+25]\n",
      " [3.76683114e+29 1.10752811e+28 2.26554021e+28 4.07370000e+05\n",
      "  1.45023944e+21 4.39144842e+27 4.32873921e+21 1.96409148e+25\n",
      "  1.91131152e+08 7.56224303e+27]\n",
      " [5.85072761e+22 8.89272610e+27 2.82668926e+22 3.50693884e+22\n",
      "  2.02377727e+13 4.95543831e+30 5.24744623e+21 1.29988585e+30\n",
      "  5.01246182e+26 3.68877600e+06]\n",
      " [7.70143100e+06 1.17805165e+29 5.46399200e+06 1.79920289e+24\n",
      "  1.90844700e+06 3.87124700e+06 1.10507614e+28 4.40122488e+23\n",
      "  2.92287828e+28 2.29606623e+24]\n",
      " [1.29576972e+22 6.43056110e+22 2.61866304e+23 7.06266919e+27\n",
      "  7.40941938e+22 6.06332022e+29 7.31556437e+22 1.92502681e+25\n",
      "             inf 6.94617827e+30]]\n",
      "\n",
      "\n",
      "[[5.00000000e+00 4.00000000e+00 4.00000000e+00 3.00000000e+00\n",
      "  3.00000000e+00 4.00000000e+00 6.00000000e+00 3.00000000e+00\n",
      "  4.00000000e+00 4.00000000e+00]\n",
      " [1.56958000e+05 2.22220000e+05 4.39120000e+04 1.41506000e+05\n",
      "  6.57239360e+08 1.48060000e+04 2.14733400e+06 2.73131000e+05\n",
      "  1.78475900e+07 2.54951500e+06]\n",
      " [6.58609000e+05 5.90106884e+21 9.03501000e+05 2.31355000e+05\n",
      "  5.32953000e+05 1.05228032e+24 1.40633510e+07 4.55200000e+05\n",
      "  3.14123000e+05 3.61833290e+19]\n",
      " [6.76371000e+05 3.01523000e+05 5.90821026e+26 9.08644000e+05\n",
      "  9.96300531e+25 1.97180614e+25 1.96339900e+06 1.26212500e+06\n",
      "  3.67067689e+22 3.79042292e+23]\n",
      " [2.06717998e+32 6.51763810e+15 2.36218533e+29 2.30070605e+25\n",
      "  2.86480500e+06 1.09073600e+06 4.58477222e+26 9.53861300e+06\n",
      "  4.31670997e+23 3.31579966e+26]\n",
      " [2.66308352e+24 1.15048500e+06 1.50735696e+24 2.21552818e+24\n",
      "  4.00424580e+26 5.60596843e+31 6.22119912e+26 1.68076900e+06\n",
      "  5.62075129e+21 2.33113545e+22]\n",
      " [5.22628726e+27 2.13552779e+28 1.96577690e+28 4.36446000e+05\n",
      "  2.01530327e+21 8.96375817e+27 2.62291022e+21 1.51614331e+25\n",
      "  3.15256500e+06 6.11374425e+26]\n",
      " [1.18623202e+23 1.61088893e+28 1.89641829e+22 3.86051628e+21\n",
      "  6.81089382e+09 5.13546127e+30 5.50211803e+21 1.44853280e+30\n",
      "  8.80841991e+26 3.97791100e+06]\n",
      " [6.82944200e+06 1.82177244e+29 5.57644600e+06 6.31775044e+23\n",
      "  2.26255500e+06 4.13289000e+06 1.56549530e+28 3.93932634e+23\n",
      "  5.77279788e+25 1.29735628e+25]\n",
      " [1.15322358e+22 1.05381988e+23 2.71325434e+24 3.35951749e+27\n",
      "  8.96141116e+21            inf 5.02837527e+23 1.96316292e+25\n",
      "             inf 9.53665872e+31]]\n"
     ]
    }
   ],
   "source": [
    "print(np.round(train_loss,0))\n",
    "print()\n",
    "print()\n",
    "print(np.round(test_loss,0))"
   ]
  },
  {
   "cell_type": "code",
   "execution_count": 28,
   "metadata": {},
   "outputs": [],
   "source": [
    "np.savetxt(\"all_train_loss_exp1.csv\", np.mean(train_loss,axis=1), delimiter=',', fmt='%2.2f')\n",
    "np.savetxt(\"all_test_loss_exp1.csv\", np.mean(test_loss,axis=1), delimiter=',', fmt='%2.2f')"
   ]
  },
  {
   "cell_type": "code",
   "execution_count": 31,
   "metadata": {},
   "outputs": [
    {
     "data": {
      "text/plain": [
       "(array([0]), array([3]))"
      ]
     },
     "execution_count": 31,
     "metadata": {},
     "output_type": "execute_result"
    }
   ],
   "source": [
    "\n",
    "\n"
   ]
  }
 ],
 "metadata": {
  "kernelspec": {
   "display_name": "Python 3",
   "language": "python",
   "name": "python3"
  },
  "language_info": {
   "codemirror_mode": {
    "name": "ipython",
    "version": 3
   },
   "file_extension": ".py",
   "mimetype": "text/x-python",
   "name": "python",
   "nbconvert_exporter": "python",
   "pygments_lexer": "ipython3",
   "version": "3.6.5"
  }
 },
 "nbformat": 4,
 "nbformat_minor": 2
}
